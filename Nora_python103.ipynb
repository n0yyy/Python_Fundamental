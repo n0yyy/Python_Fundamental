{
 "cells": [
  {
   "cell_type": "markdown",
   "metadata": {
    "id": "sh59bu-cmHQf"
   },
   "source": [
    "# This exercise is to test your knowledge in\n",
    "\n",
    "1.   For Loop\n",
    "2.   While Loop\n",
    "\n"
   ]
  },
  {
   "cell_type": "markdown",
   "metadata": {
    "id": "NUBr3r3Er9Ub"
   },
   "source": [
    "**Problem 1**\n",
    "\n",
    "Print first 10 natural numbers using while loop"
   ]
  },
  {
   "cell_type": "code",
   "execution_count": null,
   "metadata": {
    "colab": {
     "base_uri": "https://localhost:8080/"
    },
    "id": "J-YS3jigr6bo",
    "outputId": "c6905b06-feb0-4a26-baa8-26cc238a1361"
   },
   "outputs": [
    {
     "name": "stdout",
     "output_type": "stream",
     "text": [
      "0\n",
      "1\n",
      "2\n",
      "3\n",
      "4\n",
      "5\n",
      "6\n",
      "7\n",
      "8\n",
      "9\n"
     ]
    }
   ],
   "source": [
    "#the non-negative integers 0, 1, 2, 3,\n",
    "\n",
    "result = 0\n",
    "while result < 10:\n",
    "  print(result)\n",
    "  result += 1"
   ]
  },
  {
   "cell_type": "markdown",
   "metadata": {
    "id": "VSmefGGDsDr0"
   },
   "source": [
    "**Problem 2**\n",
    "\n",
    "Print first 10 prime numbers using for loop"
   ]
  },
  {
   "cell_type": "code",
   "execution_count": 3,
   "metadata": {},
   "outputs": [
    {
     "name": "stdout",
     "output_type": "stream",
     "text": [
      "2 is  Prime number\n",
      "3 is  Prime number\n",
      "5 is  Prime number\n",
      "7 is  Prime number\n",
      "11 is  Prime number\n",
      "13 is  Prime number\n",
      "17 is  Prime number\n",
      "19 is  Prime number\n",
      "23 is  Prime number\n",
      "29 is  Prime number\n"
     ]
    }
   ],
   "source": [
    "# can divide by 1 and itself\n",
    "\n",
    "count = 0\n",
    "gn = 1\n",
    "while count < 10:\n",
    "    isPrime = True\n",
    "    gn += 1\n",
    "    for numb in range(2, gn):\n",
    "        if gn % numb == 0:\n",
    "            isPrime = False\n",
    "    if isPrime:\n",
    "        print(gn, \"is  Prime number\")\n",
    "        count += 1\n"
   ]
  },
  {
   "cell_type": "code",
   "execution_count": null,
   "metadata": {},
   "outputs": [
    {
     "ename": "SyntaxError",
     "evalue": "invalid syntax (3318532203.py, line 6)",
     "output_type": "error",
     "traceback": [
      "\u001b[1;36m  Cell \u001b[1;32mIn[55], line 6\u001b[1;36m\u001b[0m\n\u001b[1;33m    for numb in range(2, 2)[]:\u001b[0m\n\u001b[1;37m                            ^\u001b[0m\n\u001b[1;31mSyntaxError\u001b[0m\u001b[1;31m:\u001b[0m invalid syntax\n"
     ]
    }
   ],
   "source": [
    "count = 0\n",
    "gn = 1\n",
    "while count < 10:\n",
    " isPrime = True \n",
    " gn += 1\n",
    " for numb in range(2, 10):\n",
    "    if gn % numb == 0:\n",
    "        isPrime == False \n",
    "        print(numb, \"Not Prime number\")\n",
    "        numb += 1\n",
    "    else:\n",
    "       isPrime == True\n",
    "       print(numb, \" Prime number\") \n"
   ]
  },
  {
   "cell_type": "code",
   "execution_count": 41,
   "metadata": {},
   "outputs": [
    {
     "name": "stdout",
     "output_type": "stream",
     "text": [
      "3\n",
      "4\n",
      "5\n",
      "6\n",
      "7\n"
     ]
    }
   ],
   "source": [
    "result = 0 \n",
    "gn = 2\n",
    "num = range(1, 7)\n",
    "for numb in num: \n",
    "    if numb % gn == 0: \n",
    "      numb += 1\n",
    "      print(numb)\n",
    "      gn = numb "
   ]
  },
  {
   "cell_type": "markdown",
   "metadata": {
    "id": "9TXi2WCNsNTg"
   },
   "source": [
    "**Problem 3**\n",
    "\n",
    "Get number of items as input and generate that many ADAM Numbers"
   ]
  },
  {
   "cell_type": "code",
   "execution_count": null,
   "metadata": {},
   "outputs": [],
   "source": [
    "a = 5 # n, rn , n2 , srn , rn2\n",
    "# a = how many adam number we want\n",
    "gn = 1\n",
    "count = 0\n",
    "while count < a:\n",
    "  n = gn\n",
    "  n2 = n**2\n",
    "  rn = 0\n",
    "  rn2 = 0\n",
    "  while n > 0:\n",
    "    rn = rn*10 + n%10\n",
    "    n = n//10\n",
    "\n",
    "  srn = rn ** 2\n",
    "  \n",
    "  while n2 > 0:\n",
    "    rn2 = rn2*10 + n2%10\n",
    "    n2 = n2//10\n",
    "\n",
    "  \n",
    "  if rn2 == srn:\n",
    "    print(gn) \n",
    "    count += 1\n",
    "\n",
    "  gn += 1\n",
    "    \n"
   ]
  },
  {
   "cell_type": "code",
   "execution_count": 106,
   "metadata": {
    "colab": {
     "base_uri": "https://localhost:8080/"
    },
    "id": "F7fhGKvxsRyk",
    "outputId": "85cc5051-3edd-44e6-83a2-619610310920"
   },
   "outputs": [
    {
     "ename": "KeyboardInterrupt",
     "evalue": "",
     "output_type": "error",
     "traceback": [
      "\u001b[1;31m---------------------------------------------------------------------------\u001b[0m",
      "\u001b[1;31mKeyboardInterrupt\u001b[0m                         Traceback (most recent call last)",
      "Cell \u001b[1;32mIn[106], line 7\u001b[0m\n\u001b[0;32m      5\u001b[0m result \u001b[38;5;241m=\u001b[39m \u001b[38;5;241m0\u001b[39m\n\u001b[0;32m      6\u001b[0m count \u001b[38;5;241m=\u001b[39m \u001b[38;5;241m0\u001b[39m \n\u001b[1;32m----> 7\u001b[0m \u001b[38;5;28;01mwhile\u001b[39;00m count \u001b[38;5;241m<\u001b[39m a:\n\u001b[0;32m      9\u001b[0m   gn \u001b[38;5;241m=\u001b[39m current\n\u001b[0;32m     10\u001b[0m   sqr_a \u001b[38;5;241m=\u001b[39m gn\u001b[38;5;241m*\u001b[39m\u001b[38;5;241m*\u001b[39m\u001b[38;5;241m2\u001b[39m\n",
      "\u001b[1;31mKeyboardInterrupt\u001b[0m: "
     ]
    }
   ],
   "source": [
    "a = 5\n",
    "\n",
    "current = 1\n",
    "\n",
    "result = 0\n",
    "count = 0 \n",
    "while count < a:\n",
    "  \n",
    "  gn = current\n",
    "  sqr_a = gn**2\n",
    "  while gn > 0:\n",
    "    reverse = result*10 + gn % 10 #got the reverse number a\n",
    "    gn = gn // 10\n",
    " \n",
    "  sqr_reverse = reverse**2 #961 \n",
    "\n",
    "  result = 0\n",
    "  while gn > 0:\n",
    "    result = result*10 + gn % 10\n",
    "    gn = gn // 10\n",
    "\n",
    "\n",
    "  if result == sqr_a:\n",
    "    print (a, \"Adam Number\")\n",
    "    count += 1 \n",
    "    \n",
    "current += 1\n",
    "\n",
    "\n",
    "# input 10 , so dia nak 10 baris adam\n",
    "# how to masukkan number adam dalam list ??\n"
   ]
  },
  {
   "cell_type": "code",
   "execution_count": 115,
   "metadata": {},
   "outputs": [
    {
     "name": "stdout",
     "output_type": "stream",
     "text": [
      "1,2,3,4\n"
     ]
    }
   ],
   "source": [
    "z  = input(\"Enter numbers separeted by comma:\")\n",
    "z.split(\",\")\n",
    "print(z)"
   ]
  },
  {
   "cell_type": "code",
   "execution_count": 114,
   "metadata": {},
   "outputs": [
    {
     "name": "stdout",
     "output_type": "stream",
     "text": [
      "92 0\n"
     ]
    }
   ],
   "source": [
    "n = 29\n",
    "rn =0\n",
    "while n > 0:\n",
    "    rn = rn*10 + n%10\n",
    "    n = n//10\n",
    "print(rn, n)"
   ]
  },
  {
   "cell_type": "code",
   "execution_count": 82,
   "metadata": {},
   "outputs": [
    {
     "ename": "KeyboardInterrupt",
     "evalue": "",
     "output_type": "error",
     "traceback": [
      "\u001b[1;31m---------------------------------------------------------------------------\u001b[0m",
      "\u001b[1;31mKeyboardInterrupt\u001b[0m                         Traceback (most recent call last)",
      "Cell \u001b[1;32mIn[82], line 4\u001b[0m\n\u001b[0;32m      1\u001b[0m a \u001b[38;5;241m=\u001b[39m \u001b[38;5;241m135\u001b[39m\n\u001b[0;32m      2\u001b[0m sqr_a \u001b[38;5;241m=\u001b[39m a\u001b[38;5;241m*\u001b[39m\u001b[38;5;241m*\u001b[39m\u001b[38;5;241m2\u001b[39m \u001b[38;5;66;03m#   \u001b[39;00m\n\u001b[1;32m----> 4\u001b[0m \u001b[38;5;28;01mwhile\u001b[39;00m a \u001b[38;5;241m>\u001b[39m \u001b[38;5;241m0\u001b[39m:\n\u001b[0;32m      5\u001b[0m     number \u001b[38;5;241m=\u001b[39m a \u001b[38;5;241m%\u001b[39m \u001b[38;5;241m10\u001b[39m \u001b[38;5;66;03m#\u001b[39;00m\n\u001b[0;32m      6\u001b[0m     reverse_num \u001b[38;5;241m=\u001b[39m number\u001b[38;5;241m*\u001b[39m\u001b[38;5;241m10\u001b[39m \u001b[38;5;241m+\u001b[39m quo \u001b[38;5;241m%\u001b[39m \u001b[38;5;241m10\u001b[39m \u001b[38;5;66;03m#\u001b[39;00m\n",
      "\u001b[1;31mKeyboardInterrupt\u001b[0m: "
     ]
    }
   ],
   "source": [
    "a = 135\n",
    "sqr_a = a**2 #   \n",
    "\n",
    "while a > 0:\n",
    "    number = a % 10 #\n",
    "    reverse_num = number*10 + quo % 10 #\n",
    "    quo= a//10 #\n",
    "\n",
    "print(number, quo, reverse_num)\n"
   ]
  },
  {
   "cell_type": "code",
   "execution_count": null,
   "metadata": {},
   "outputs": [],
   "source": [
    "def is_adam_number(num):\n",
    "    # Calculate the square of the number\n",
    "    squared = num ** 2\n",
    "    \n",
    "    # Reverse the number\n",
    "    reversed_num = int(str(num)[::-1])\n",
    "    \n",
    "    # Calculate the square of the reversed number\n",
    "    reversed_squared = reversed_num ** 2\n",
    "    \n",
    "    # Reverse the squared reversed number\n",
    "    reversed_squared_reversed = int(str(reversed_squared)[::-1])\n",
    "    \n",
    "    # Check if the reversed square equals the square of the original number\n",
    "    return squared == reversed_squared_reversed\n",
    "\n",
    "# Get the number of Adam Numbers to generate\n",
    "n = int(input(\"Enter the number of Adam Numbers to generate: \"))\n",
    "adam_numbers = []\n",
    "current = 1\n",
    "\n",
    "# Generate Adam Numbers\n",
    "while len(adam_numbers) < n:\n",
    "    if is_adam_number(current):\n",
    "        adam_numbers.append(current)\n",
    "    current += 1\n",
    "\n",
    "# Print the Adam Numbers\n",
    "print(\"First\", n, \"Adam Numbers:\", adam_numbers)\n"
   ]
  },
  {
   "cell_type": "markdown",
   "metadata": {
    "id": "1NtR4H83sWRd"
   },
   "source": [
    "**Problem 4**\n",
    "\n",
    "Get number of items as input and generate that many Armstrong Numbers"
   ]
  },
  {
   "cell_type": "code",
   "execution_count": null,
   "metadata": {
    "id": "kTHyEZhosohS"
   },
   "outputs": [
    {
     "name": "stdout",
     "output_type": "stream",
     "text": [
      "1\n",
      "2\n",
      "3\n",
      "4\n",
      "5\n",
      "6\n",
      "7\n",
      "8\n",
      "9\n",
      "153\n",
      "370\n",
      "371\n",
      "407\n",
      "1634\n",
      "8208\n",
      "9474\n",
      "54748\n",
      "92727\n",
      "93084\n",
      "548834\n"
     ]
    }
   ],
   "source": [
    "# 153 is an Armstrong number because 1 ** 3 + 5 ** 3 + 3 ** 3 = 153\n",
    "# if 1234 = 1*4 + 2*4 ( the power of number berubah)\n",
    "a = input(\"Enter number\")\n",
    "gn = 1\n",
    "count = 0\n",
    "while count < a:\n",
    "    pon = 0\n",
    "    for num in str(gn):\n",
    "        pon = pon + int(num)**len(str(gn)) \n",
    "\n",
    "    if gn == pon:\n",
    "        print(gn)\n",
    "        count +=1\n",
    "    gn += 1    \n",
    "         \n",
    "      "
   ]
  },
  {
   "cell_type": "markdown",
   "metadata": {
    "id": "YSye6ju2s4Rd"
   },
   "source": [
    "**Problem 5**\n",
    "\n",
    "Write a program to print the following pattern using a loop.\n",
    "\n",
    "o\n",
    "\n",
    "oo\n",
    "\n",
    "ooo\n",
    "\n",
    "oooo\n",
    "\n",
    "ooooo"
   ]
  },
  {
   "cell_type": "code",
   "execution_count": 44,
   "metadata": {
    "id": "UY1ml3TotBI7"
   },
   "outputs": [
    {
     "name": "stdout",
     "output_type": "stream",
     "text": [
      "o\n"
     ]
    }
   ],
   "source": [
    "\n",
    "i = \"o\"\n",
    "result = \"\"\n",
    "\n",
    "for h in i:\n",
    "    result += h\n",
    "    print (result)  \n",
    "    result += h "
   ]
  },
  {
   "cell_type": "markdown",
   "metadata": {
    "id": "1SkSXbQbtUEW"
   },
   "source": [
    "**Problem 6**\n",
    "\n",
    "Write a program to print the following pattern using a loop\n",
    "\n",
    "1\n",
    "\n",
    "1 2\n",
    "\n",
    "1 2 3\n",
    "\n",
    "1 2 3 4\n",
    "\n",
    "1 2 3 4 5"
   ]
  },
  {
   "cell_type": "code",
   "execution_count": null,
   "metadata": {
    "id": "tRDo_Wa7tfpE"
   },
   "outputs": [],
   "source": []
  },
  {
   "cell_type": "markdown",
   "metadata": {
    "id": "WWKQLhpptmeb"
   },
   "source": [
    "**Problem 7**\n",
    "\n",
    "Get a number as input and calculate the sum of all numbers from 1 to the given number."
   ]
  },
  {
   "cell_type": "code",
   "execution_count": null,
   "metadata": {
    "id": "ps0pUcEDtzkb"
   },
   "outputs": [],
   "source": []
  },
  {
   "cell_type": "markdown",
   "metadata": {
    "id": "S4OA1NOB1EBt"
   },
   "source": [
    "**Problem 8**\n",
    "\n",
    "Write a python program that takes few numbers as command line argument. Use a loop to display all elements. Use another loop to display all elements in the even position. Use another loop to display all elements in the odd position."
   ]
  },
  {
   "cell_type": "code",
   "execution_count": 103,
   "metadata": {
    "id": "3bGUGiBm5Ab-"
   },
   "outputs": [
    {
     "name": "stdout",
     "output_type": "stream",
     "text": [
      " \n",
      "10\n",
      "20\n",
      "30\n",
      "40\n",
      "50\n",
      "[50, 50, 50, 50, 50]\n"
     ]
    }
   ],
   "source": [
    "import sys\n",
    "even = []\n",
    "sys.argv = [' ', '10', '20', \"30\", \"40\", \"50\"] \n",
    "for num in sys.argv:\n",
    "  print(num) \n",
    " \n",
    "for numb in range(1,len(sys.argv)):\n",
    "  a = int(sys.argv[index])\n",
    "  if a % 2 == 0:\n",
    "    even.append(a)\n",
    "print(even)\n"
   ]
  },
  {
   "cell_type": "markdown",
   "metadata": {
    "id": "DAgEW9F75Jf2"
   },
   "source": [
    "**Problem 9**\n",
    "\n",
    "Write a python program that takes few numbers as command line argument. Find the average of those numbers."
   ]
  },
  {
   "cell_type": "code",
   "execution_count": 120,
   "metadata": {
    "id": "p_MV-MR_5Tfi"
   },
   "outputs": [
    {
     "name": "stdout",
     "output_type": "stream",
     "text": [
      "27.5\n"
     ]
    }
   ],
   "source": [
    "sys.argv = [' ', '10', '15','20', \"30\", \"40\", \"50\"]  #len for count every item not every number\n",
    "sumnumber = 0\n",
    "for num in range(1,len(sys.argv)):# [1,2,3,4,5,6]\n",
    "  a = int(sys.argv[num])\n",
    "  sumnumber = sumnumber + a\n",
    "  \n",
    "average = sumnumber / (len(sys.argv)-1)\n",
    "\n",
    "print(average)"
   ]
  },
  {
   "cell_type": "markdown",
   "metadata": {
    "id": "rZP_eg_XuKwO"
   },
   "source": [
    "**Problem 10**\n",
    "\n",
    "Write a Python program that takes a string as input, which contains numbers separated by commas. Convert the string to a list of numbers and determine whether all the numbers are different from each other."
   ]
  },
  {
   "cell_type": "code",
   "execution_count": null,
   "metadata": {
    "id": "Mju8O4-wuuKX"
   },
   "outputs": [],
   "source": []
  },
  {
   "cell_type": "markdown",
   "metadata": {
    "id": "KgTnX2_eu6l1"
   },
   "source": [
    "**Problem 11**\n",
    "\n",
    "Write a Python program that takes a string as input, which contains numbers separated by commas. Convert the string to a list of numbers. Now pick 3 unique numbers from the list whose sum is 100."
   ]
  },
  {
   "cell_type": "code",
   "execution_count": null,
   "metadata": {
    "id": "RzBHYSKpzY6p"
   },
   "outputs": [],
   "source": [
    "###revise again\n",
    "z  = input(\"Enter numbers separeted by comma:\")\n",
    "y = z.split(\",\")\n",
    "isFound = False\n",
    "for i in y:\n",
    "  if isFound:\n",
    "    break\n",
    "  for j in y:\n",
    "    if isFound: \n",
    "      break\n",
    "    for k in y:\n",
    "      if int(i) + int(j) + int(k) == 100 and i != j and i != k and j != k:\n",
    "        print (i,j,k)\n",
    "        isFound = True\n",
    "        break\n",
    "\n",
    "if isFound == False:\n",
    "  print(\"No number found\")"
   ]
  },
  {
   "cell_type": "markdown",
   "metadata": {
    "id": "6tRt53BBz25I"
   },
   "source": [
    "**Problem 12**\n",
    "\n",
    "Write a Python program to get 2 positive numbers as input and multiply them without using the '*' operator."
   ]
  },
  {
   "cell_type": "code",
   "execution_count": null,
   "metadata": {
    "id": "5WIRg5fw0Fi5"
   },
   "outputs": [],
   "source": []
  },
  {
   "cell_type": "markdown",
   "metadata": {
    "id": "EnXIYV3B0vEi"
   },
   "source": [
    "**Problem 13**\n",
    "\n",
    "Write a python program to print first 10 terms in a Fibonacci series"
   ]
  },
  {
   "cell_type": "code",
   "execution_count": null,
   "metadata": {
    "id": "SXHLhERV0xDG"
   },
   "outputs": [
    {
     "name": "stdout",
     "output_type": "stream",
     "text": [
      "Fibonacci\n",
      "0\n",
      "1\n",
      "1\n",
      "2\n",
      "3\n",
      "5\n",
      "8\n",
      "13\n",
      "21\n",
      "34\n"
     ]
    }
   ],
   "source": [
    "#the sum of the two preceding numbers. For example, 0, 1, 1, 2, 3, 5, 8, 13\n",
    "# F(O)= 0 F(1)=1 F(n)=F(n-1) + F(n-2) >1\n",
    "gn = 10\n",
    "a, b = 0, 1\n",
    "count = 0 \n",
    "if gn > 0:\n",
    "    print(\"Fibonacci\")\n",
    "    while count < gn: \n",
    "        print(a)\n",
    "        sum = a + b\n",
    "        a = b\n",
    "        b = sum\n",
    "        count += 1\n",
    "    "
   ]
  },
  {
   "cell_type": "markdown",
   "metadata": {
    "id": "UvfmEmtZ6_EW"
   },
   "source": [
    "**Problem 14**\n",
    "\n",
    "Write a python program which takes a number as input and convert the number to binary. Note: Don't use any builtin functions."
   ]
  },
  {
   "cell_type": "code",
   "execution_count": 5,
   "metadata": {
    "id": "f2YG9RqB7-M9"
   },
   "outputs": [
    {
     "ename": "KeyboardInterrupt",
     "evalue": "",
     "output_type": "error",
     "traceback": [
      "\u001b[1;31m---------------------------------------------------------------------------\u001b[0m",
      "\u001b[1;31mKeyboardInterrupt\u001b[0m                         Traceback (most recent call last)",
      "Cell \u001b[1;32mIn[5], line 6\u001b[0m\n\u001b[0;32m      4\u001b[0m \u001b[38;5;28;01mwhile\u001b[39;00m x \u001b[38;5;241m>\u001b[39m \u001b[38;5;241m0\u001b[39m:\n\u001b[0;32m      5\u001b[0m   binary \u001b[38;5;241m=\u001b[39m x \u001b[38;5;241m%\u001b[39m \u001b[38;5;241m2\u001b[39m \n\u001b[1;32m----> 6\u001b[0m   binary \u001b[38;5;241m=\u001b[39m \u001b[38;5;28;43mstr\u001b[39;49m\u001b[43m(\u001b[49m\u001b[43mx\u001b[49m\u001b[43m)\u001b[49m \u001b[38;5;241m+\u001b[39m \u001b[38;5;28mstr\u001b[39m(binary)\n\u001b[0;32m      7\u001b[0m   num \u001b[38;5;241m=\u001b[39m x \u001b[38;5;241m/\u001b[39m\u001b[38;5;241m/\u001b[39m \u001b[38;5;241m2\u001b[39m\n\u001b[0;32m      9\u001b[0m \u001b[38;5;28mprint\u001b[39m(binary)\n",
      "\u001b[1;31mKeyboardInterrupt\u001b[0m: "
     ]
    }
   ],
   "source": [
    "x = int(input(\"Enter number:\"))\n",
    "num = 0 \n",
    "\n",
    "while x > 0:\n",
    "  binary = x % 2 \n",
    "  binary = str(x) + str(binary)\n",
    "  num = x // 2\n",
    "\n",
    "print(binary)"
   ]
  },
  {
   "cell_type": "markdown",
   "metadata": {
    "id": "mRHDuUD27_E-"
   },
   "source": [
    "**Problem 15**\n",
    "\n",
    "Write a python program which takes a binary number as input and convert the number to decimal. Note: Don't use any builtin functions."
   ]
  },
  {
   "cell_type": "code",
   "execution_count": null,
   "metadata": {
    "id": "9jMTZf7e8MHK"
   },
   "outputs": [],
   "source": []
  },
  {
   "cell_type": "markdown",
   "metadata": {
    "id": "Pn3i07JVHqEk"
   },
   "source": [
    "**Problem 16**\n",
    "\n",
    "Write a Python program that asks the user to input a positive integer n and then prints the multiplication table of n up to 12."
   ]
  },
  {
   "cell_type": "code",
   "execution_count": 25,
   "metadata": {
    "id": "_VaYfi7lH01X"
   },
   "outputs": [
    {
     "name": "stdout",
     "output_type": "stream",
     "text": [
      "1 x 2 = 2\n",
      "2 x 2 = 4\n",
      "3 x 2 = 6\n",
      "4 x 2 = 8\n",
      "5 x 2 = 10\n",
      "6 x 2 = 12\n",
      "7 x 2 = 14\n",
      "8 x 2 = 16\n",
      "9 x 2 = 18\n",
      "10 x 2 = 20\n",
      "11 x 2 = 22\n",
      "12 x 2 = 24\n"
     ]
    }
   ],
   "source": [
    "n = int(input(\"Enter multiplicant\"))\n",
    "mulitplier = 0\n",
    "\n",
    "while mulitplier < 12:\n",
    "    mulitplier += 1\n",
    "    print(mulitplier, \"x\", n, \"=\", int(n*mulitplier))"
   ]
  },
  {
   "cell_type": "markdown",
   "metadata": {
    "id": "Uv1TuM37H18U"
   },
   "source": [
    "**Problem 17**\n",
    "\n",
    "Write a Python program that asks the user to input a positive integer n and then counts and prints the number of digits in n."
   ]
  },
  {
   "cell_type": "code",
   "execution_count": 29,
   "metadata": {
    "id": "5nZOLEh9H_Cp"
   },
   "outputs": [
    {
     "name": "stdout",
     "output_type": "stream",
     "text": [
      "0\n",
      "1\n",
      "2\n",
      "3\n",
      "4\n"
     ]
    }
   ],
   "source": [
    "#tafaham\n",
    "\n",
    "n = int(input(\"Enter number\"))\n",
    "count = 0\n",
    "while count < n:\n",
    "    print(count)\n",
    "    count += 1"
   ]
  },
  {
   "cell_type": "markdown",
   "metadata": {
    "id": "aTrir6SzIUc8"
   },
   "source": [
    "**Problem 18**\n",
    "\n",
    "Write a Python program that asks the user to input a positive integer n and then calculates and prints the sum of its digits."
   ]
  },
  {
   "cell_type": "code",
   "execution_count": null,
   "metadata": {
    "id": "F3QXAF4xIWrl"
   },
   "outputs": [],
   "source": [
    "#sum its digits = cth insert 81, 8+1 = 9\n",
    "\n",
    "n = 14\n",
    "sum = 0  \n",
    "d = n % 10\n",
    "y = n // 10 \n",
    "while sum > 0 :\n",
    "  d = n % 10\n",
    "  sum = y + d  \n",
    "print(y, sum, d)"
   ]
  },
  {
   "cell_type": "markdown",
   "metadata": {
    "id": "SU0SPQYNIehv"
   },
   "source": [
    "**Problem 19**\n",
    "\n",
    "Write a Python program that asks the user to input two positive integers a and b, and then calculates and prints the greatest common divisor (GCD) of a and b using a loop."
   ]
  },
  {
   "cell_type": "code",
   "execution_count": 104,
   "metadata": {
    "id": "BIEkSttXIgzP"
   },
   "outputs": [
    {
     "name": "stdout",
     "output_type": "stream",
     "text": [
      "GCD is 5\n"
     ]
    }
   ],
   "source": [
    "# also called GCFactor\n",
    "a = int(input(\"Enter 1st number:\"))\n",
    "b = int(input(\"Enter 2nd number:\"))\n",
    "\n",
    "if a > b:\n",
    "  big = a\n",
    "else: b\n",
    " \n",
    "for i in range(1, big):\n",
    "  if a % i == 0 and b % i == 0:\n",
    "    gcd = i\n",
    "print(\"GCD is\", gcd) \n",
    "   "
   ]
  },
  {
   "cell_type": "markdown",
   "metadata": {
    "id": "w63hobswImCa"
   },
   "source": [
    "**Problem 20**\n",
    "\n",
    "Write a Python program that asks the user to input a positive integer n and then calculates and prints the sum of the following sequence:\n",
    "\n",
    "1 + 1/2 + 1/3 + ... + 1/n."
   ]
  },
  {
   "cell_type": "code",
   "execution_count": null,
   "metadata": {
    "id": "ao5UL82nIoq-"
   },
   "outputs": [],
   "source": []
  },
  {
   "cell_type": "markdown",
   "metadata": {
    "id": "O2KPhbic8BQA"
   },
   "source": [
    "**Problem 21: Password Strength Checker**\n",
    "\n",
    "Write a Python program that takes a password as input and checks its strength based on the following criteria:\n",
    "\n",
    "\"Strong\" if the password is at least 8 characters long, contains both uppercase and lowercase letters, and includes at least one number and one special character.\n",
    "\"Moderate\" if the password is at least 6 characters long and meets at least two of the above criteria.\n",
    "\"Weak\" if the password does not meet the criteria for \"Strong\" or \"Moderate\"."
   ]
  },
  {
   "cell_type": "code",
   "execution_count": 116,
   "metadata": {
    "id": "O6gYu4IQ8E_q"
   },
   "outputs": [
    {
     "name": "stdout",
     "output_type": "stream",
     "text": [
      "Weak\n"
     ]
    }
   ],
   "source": [
    "\n",
    "x =input(\"Enter Password\")\n",
    "\n",
    "upper = \"ABCDEFGHIJKLMNOPQRSTUVWXYZ\"\n",
    "lower = \"abcdefghijklmnopqrstuvwxyz\"\n",
    "number = \"1234567890\"\n",
    "special = \"!@#$%^&*()_+[]{}<>\"\n",
    "\n",
    "nc_8 = len(x) >= 8\n",
    "nc_6 = len(x) >= 6\n",
    "uc = False\n",
    "lc = False\n",
    "n = False\n",
    "sc = False\n",
    "\n",
    "\n",
    "for char in x: \n",
    "  if char in upper:\n",
    "    uc=True\n",
    "  if char in lower:\n",
    "    lc = True\n",
    "  if char in number:\n",
    "    n = True\n",
    "  if char in special:\n",
    "    sc = True\n",
    "\n",
    "ulc = all([uc,lc])\n",
    "\n",
    "\n",
    "if nc_8 == True and ulc == True and sc == True and n == True:\n",
    "  print(\"Strong\")\n",
    "\n",
    "if nc_6 and ((ulc and (sc or n))or (sc and n)):\n",
    "  print(\"Moderate\")\n",
    "\n",
    "else:\n",
    "  print(\"Weak\")\n"
   ]
  },
  {
   "cell_type": "markdown",
   "metadata": {
    "id": "sgXRH5iWVgd6"
   },
   "source": [
    "**Problem 22: Implement Bubble Sort**\n",
    "\n",
    "Write a python program that sorts the following list\n",
    "[64, 34, 25, 12, 22, 11, 90]<br/>\n",
    "Please use bubble short<br/>\n",
    "Expected output [11, 12, 22, 25, 34, 64, 90]"
   ]
  },
  {
   "cell_type": "code",
   "execution_count": 128,
   "metadata": {},
   "outputs": [
    {
     "name": "stdout",
     "output_type": "stream",
     "text": [
      "[11, 12, 22, 25, 34, 64, 90]\n"
     ]
    }
   ],
   "source": [
    "numbers = [64, 34, 25, 12, 22, 11, 90]\n",
    "isNotSorted = True\n",
    "while isNotSorted:\n",
    "  for i in range(len(numbers)-1): # [0,1,2,3,4,5]\n",
    "    if numbers[i] > numbers[i+1]:\n",
    "      numbers[i],numbers[i+1] = numbers[i+1],numbers[i]\n",
    "      break\n",
    "  else:\n",
    "    isNotSorted = False\n",
    "\n",
    "print(numbers)"
   ]
  },
  {
   "cell_type": "code",
   "execution_count": 16,
   "metadata": {
    "id": "z6apazqqV4Xv"
   },
   "outputs": [
    {
     "name": "stdout",
     "output_type": "stream",
     "text": [
      "[11, 12, 22, 25, 34, 64, 90]\n"
     ]
    }
   ],
   "source": [
    "numbers = [64, 34, 25, 12, 22, 11, 90]\n",
    "swap= True\n",
    "while(swap):\n",
    "    swap = False\n",
    "    for index in range(0, len(numbers)-1):\n",
    "        a = numbers[index]\n",
    "        b = numbers[index+1]\n",
    "        if a > b:\n",
    "            numbers[index+1] = a\n",
    "            numbers[index] = b\n",
    "            swap = True\n",
    "        \n",
    "print(numbers) \n"
   ]
  },
  {
   "cell_type": "markdown",
   "metadata": {
    "id": "buHj-z1I1rpY"
   },
   "source": [
    "**Problem 23: Count Occurrences of a Character**\n",
    "\n",
    "Write a program that takes a string and a character as input and counts the number of occurrences of that character in the string."
   ]
  },
  {
   "cell_type": "code",
   "execution_count": 36,
   "metadata": {
    "id": "dmxXZC3y1xvn"
   },
   "outputs": [
    {
     "name": "stdout",
     "output_type": "stream",
     "text": [
      "6\n"
     ]
    }
   ],
   "source": [
    "string = input(\"Enter text\")\n",
    "char = input(\"Enter one charachter from your text\")\n",
    "total = 0\n",
    "for c in string:\n",
    "    if c in char:\n",
    "        total += 1\n",
    "\n",
    "print(total)"
   ]
  },
  {
   "cell_type": "markdown",
   "metadata": {
    "id": "6D-p_ytJ1zWE"
   },
   "source": [
    "**Problem 24: FizzBuzz**\n",
    "\n",
    "Write a python program that prints the numbers from 1 to 100. For multiples of 3, print “Fizz” instead of the number, and for multiples of 5, print “Buzz”. For numbers that are multiples of both, print “FizzBuzz”."
   ]
  },
  {
   "cell_type": "code",
   "execution_count": 16,
   "metadata": {
    "id": "Z7uqWtse2MfY"
   },
   "outputs": [
    {
     "name": "stdout",
     "output_type": "stream",
     "text": [
      "1\n",
      "2\n",
      "3\n",
      "Fizz\n",
      "4\n",
      "5\n",
      "Buzz\n",
      "6\n",
      "Fizz\n",
      "7\n",
      "8\n",
      "9\n",
      "Fizz\n",
      "10\n",
      "Buzz\n",
      "11\n",
      "12\n",
      "Fizz\n",
      "13\n",
      "14\n",
      "15\n",
      "Fizz\n",
      "16\n",
      "17\n",
      "18\n",
      "Fizz\n",
      "19\n",
      "19\n"
     ]
    }
   ],
   "source": [
    "for num in range ( 1, 20):\n",
    "    print(num)\n",
    "    if num % 3 == 0:\n",
    "        print(\"Fizz\")         \n",
    "    elif num % 5 == 0:\n",
    "        print(\"Buzz\")\n",
    "    elif num % 15 == 0:\n",
    "        print(\"FizzBuzz\")\n",
    "        continue\n",
    "print(num)"
   ]
  },
  {
   "cell_type": "markdown",
   "metadata": {
    "id": "IkIgQHXW2iWw"
   },
   "source": [
    "**Problem 25: Count Vowels in a String**\n",
    "\n",
    "Write a program that takes a string as input and counts the number of vowels **(a, e, i, o, u)** in it."
   ]
  },
  {
   "cell_type": "code",
   "execution_count": 37,
   "metadata": {
    "id": "M6f8uxdo2tCG"
   },
   "outputs": [
    {
     "name": "stdout",
     "output_type": "stream",
     "text": [
      "3\n"
     ]
    }
   ],
   "source": [
    "string = input(\"Enter text\")\n",
    "vowel = \"aeiouAEIOU\"\n",
    "total = 0\n",
    "for c in string:\n",
    "    if c in vowel:\n",
    "        total += 1\n",
    "\n",
    "print(total)"
   ]
  }
 ],
 "metadata": {
  "colab": {
   "provenance": []
  },
  "kernelspec": {
   "display_name": "Python 3",
   "name": "python3"
  },
  "language_info": {
   "codemirror_mode": {
    "name": "ipython",
    "version": 3
   },
   "file_extension": ".py",
   "mimetype": "text/x-python",
   "name": "python",
   "nbconvert_exporter": "python",
   "pygments_lexer": "ipython3",
   "version": "3.12.3"
  }
 },
 "nbformat": 4,
 "nbformat_minor": 0
}
