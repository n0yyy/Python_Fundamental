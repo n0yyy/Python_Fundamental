{
 "cells": [
  {
   "cell_type": "markdown",
   "metadata": {
    "id": "A0Bwrme6fTrE"
   },
   "source": [
    "**Problem 1**\n",
    "\n",
    "Write a python function that takes a number as parameter and prints the multiplication table of that number"
   ]
  },
  {
   "cell_type": "code",
   "execution_count": 3,
   "metadata": {
    "colab": {
     "base_uri": "https://localhost:8080/"
    },
    "id": "EWkDXgTp_3vD",
    "outputId": "f2353cc3-c73b-488e-8bdf-492bb01af9ea"
   },
   "outputs": [
    {
     "name": "stdout",
     "output_type": "stream",
     "text": [
      "1 x 5 = 5\n",
      "2 x 5 = 10\n",
      "3 x 5 = 15\n",
      "4 x 5 = 20\n",
      "5 x 5 = 25\n"
     ]
    }
   ],
   "source": [
    "def number(n):\n",
    "  for mulitiplicant in range(1, n+1):\n",
    "    print(mulitiplicant, \"x\", n, \"=\", mulitiplicant*n)\n",
    "\n",
    "number(5)"
   ]
  },
  {
   "cell_type": "markdown",
   "metadata": {
    "id": "hHsndVQCfZNT"
   },
   "source": [
    "**Problem 2**\n",
    "\n",
    "Write a simple python function that returns twin primes less than 1000. If two consecutive odd numbers are both prime then they are known as twin primes.\n",
    "\n",
    "Pairs of primes that differ by 2. For example, 3 and 5, 5 and 7, 11 and 13, and 17 and 19 are twin primes."
   ]
  },
  {
   "cell_type": "code",
   "execution_count": 157,
   "metadata": {},
   "outputs": [
    {
     "name": "stdout",
     "output_type": "stream",
     "text": [
      "1 and 3 \n",
      "3 and 5 \n",
      "9 and 11 \n",
      "15 and 17 \n",
      "27 and 29 \n",
      "39 and 41 \n",
      "57 and 59 \n",
      "69 and 71 \n",
      "99 and 101 \n",
      "105 and 107 \n",
      "135 and 137 \n",
      "147 and 149 \n",
      "177 and 179 \n",
      "189 and 191 \n",
      "195 and 197 \n",
      "225 and 227 \n",
      "237 and 239 \n",
      "267 and 269 \n",
      "279 and 281 \n",
      "309 and 311 \n",
      "345 and 347 \n",
      "417 and 419 \n",
      "429 and 431 \n",
      "459 and 461 \n",
      "519 and 521 \n",
      "567 and 569 \n",
      "597 and 599 \n",
      "615 and 617 \n",
      "639 and 641 \n",
      "657 and 659 \n",
      "807 and 809 \n",
      "819 and 821 \n",
      "825 and 827 \n",
      "855 and 857 \n",
      "879 and 881 \n",
      "are twin primes\n"
     ]
    }
   ],
   "source": [
    "def twin_prime(num): \n",
    "    prime = [2,3]\n",
    "    for i in range(4,num):#15\n",
    "        for j in prime: # [2,3,5,7,11,13]\n",
    "            if i%j ==0:\n",
    "                break\n",
    "        else:\n",
    "            prime.append(i)\n",
    "\n",
    "    for i in range(len(prime)-1):\n",
    "        if prime[i+1]-2 == prime[i]:\n",
    "            print(f\"{prime[i]-2} and {prime[i+1]-2} \")\n",
    "    else:\n",
    "        print(\"are twin primes\")\n",
    "\n",
    "twin_prime(1000)"
   ]
  },
  {
   "cell_type": "code",
   "execution_count": 53,
   "metadata": {
    "id": "DT9PXLVEAGjQ"
   },
   "outputs": [
    {
     "ename": "IndentationError",
     "evalue": "expected an indented block after 'if' statement on line 3 (131636811.py, line 5)",
     "output_type": "error",
     "traceback": [
      "\u001b[1;36m  Cell \u001b[1;32mIn[53], line 5\u001b[1;36m\u001b[0m\n\u001b[1;33m    def prime(num):\u001b[0m\n\u001b[1;37m    ^\u001b[0m\n\u001b[1;31mIndentationError\u001b[0m\u001b[1;31m:\u001b[0m expected an indented block after 'if' statement on line 3\n"
     ]
    }
   ],
   "source": [
    "#For example, (3,5) are twin primes, since the difference between the two numbers 5 – 3 = 2\n",
    "num = 0\n",
    "if num < 2:\n",
    "\n",
    "def prime(num):\n",
    "  count = 0\n",
    "  result = []\n",
    "  n=1\n",
    "  while count < num:\n",
    "    isPrime = True\n",
    "    n +=1\n",
    "    for numb in range(2, n):\n",
    "      if (n+2) % numb ==0:\n",
    "        result.append(numb)\n",
    "        isPrime = False\n",
    "    if isPrime:\n",
    "      print(zip(str(n)))\n",
    "      count += 1\n",
    "\n",
    "\n",
    "prime(1000)\n",
    "tafaham"
   ]
  },
  {
   "cell_type": "markdown",
   "metadata": {
    "id": "IuSDs-t6hN2I"
   },
   "source": [
    "**Problem 3**\n",
    "\n",
    "Write a simple python function that takes a number as parameter and returns  the prime factors of that number. Prime Factorization is finding which prime numbers multiply together to make the original number.\n",
    "\n",
    "Example: prime factors of 56 - 2, 2, 2, 7"
   ]
  },
  {
   "cell_type": "code",
   "execution_count": 2,
   "metadata": {},
   "outputs": [
    {
     "data": {
      "text/plain": [
       "[2, 2, 2, 7]"
      ]
     },
     "execution_count": 2,
     "metadata": {},
     "output_type": "execute_result"
    }
   ],
   "source": [
    "def prime_fac(num):\n",
    "    factors = []\n",
    "    divisor = 2\n",
    "\n",
    "    while num > 1:\n",
    "        while num % divisor == 0:\n",
    "            factors.append(divisor) \n",
    "            num //= divisor\n",
    "        divisor += 1\n",
    "    return factors\n",
    "\n",
    "prime_fac(56)"
   ]
  },
  {
   "cell_type": "code",
   "execution_count": null,
   "metadata": {},
   "outputs": [
    {
     "name": "stdout",
     "output_type": "stream",
     "text": [
      "1\n"
     ]
    }
   ],
   "source": [
    "### WRONGG logic againn\n",
    "def prime_fact(num): \n",
    "  while True:\n",
    "    result = num//2\n",
    "    result = result //2\n",
    "    result = result//result\n",
    "    if result== 1: \n",
    "      break\n",
    "  print(result)\n",
    "prime_fact(56)"
   ]
  },
  {
   "cell_type": "markdown",
   "metadata": {
    "id": "TjZG6aCDiaR8"
   },
   "source": [
    "**Problem 4**\n",
    "\n",
    "Write a function that inputs a number and returns the product of digits of that number."
   ]
  },
  {
   "cell_type": "code",
   "execution_count": 42,
   "metadata": {},
   "outputs": [
    {
     "name": "stdout",
     "output_type": "stream",
     "text": [
      "10\n"
     ]
    }
   ],
   "source": [
    "## DIA NAK MULTIPLICATION OF THE nuMBeR\n",
    "\n",
    "def product(num):\n",
    "    total = 1\n",
    "    while num >0:\n",
    "        a = num % 10 \n",
    "        total = total*a\n",
    "        num = num // 10\n",
    "\n",
    "    print(total)\n",
    "\n",
    "product(25)"
   ]
  },
  {
   "cell_type": "code",
   "execution_count": null,
   "metadata": {
    "id": "mvt7rb44AD1O"
   },
   "outputs": [
    {
     "name": "stdout",
     "output_type": "stream",
     "text": [
      "[1, 3, 6, 10, 15]\n"
     ]
    }
   ],
   "source": [
    "## return product of digits? ape kau nak? total addition of the number ke\n",
    "## SALAH NI PRINT APE TETAU\n",
    "\n",
    "def product(num):\n",
    "    sum = 0\n",
    "    products =[]\n",
    "\n",
    "    for i in range(1, num+1):\n",
    "        sum = sum + int(i) \n",
    "        products.append(sum)\n",
    "        if sum == num:\n",
    "            break\n",
    "    i += 1\n",
    "    print(products)\n",
    "    \n",
    "\n",
    "n= int(input(\"Enter number of product\"))\n",
    "product(n)"
   ]
  },
  {
   "cell_type": "markdown",
   "metadata": {
    "id": "dP39qvGMje7L"
   },
   "source": [
    "**Problem 5**\n",
    "\n",
    "Write a function that takes a number as parameter. The function finds the proper divisors of that number and then finds the sum of proper divisors. Proper divisors of a number are those numbers by which the number is divisible, except the number itself.\n",
    "\n",
    "For example proper divisors of 36 are 1, 2, 3, 4, 6, 9, 18"
   ]
  },
  {
   "cell_type": "code",
   "execution_count": 19,
   "metadata": {
    "id": "S29lD5Majy2V"
   },
   "outputs": [
    {
     "name": "stdout",
     "output_type": "stream",
     "text": [
      "[1, 2, 3, 4, 6, 9, 12, 18]\n"
     ]
    },
    {
     "data": {
      "text/plain": [
       "55"
      ]
     },
     "execution_count": 19,
     "metadata": {},
     "output_type": "execute_result"
    }
   ],
   "source": [
    "def proper_divisor(num):\n",
    "    pd = []  \n",
    "    result = 0\n",
    "    while result < num: \n",
    "        for i in range(1, num):\n",
    "            if num % i == 0:\n",
    "                result = result + i  \n",
    "                pd.append(i)   \n",
    "        print(pd)\n",
    "        i += 1 \n",
    "    \n",
    "    return(sum(pd))\n",
    "\n",
    "proper_divisor(36)\n",
    " "
   ]
  },
  {
   "cell_type": "markdown",
   "metadata": {
    "id": "mcVzyq8lj1Sr"
   },
   "source": [
    "**Problem 6**\n",
    "\n",
    "A number is called perfect if the sum of proper divisors of that number is equal to the number. For example 28 is perfect number, since 1+2+4+7+14=28. Write a program to print all the perfect numbers in a given range"
   ]
  },
  {
   "cell_type": "code",
   "execution_count": 17,
   "metadata": {
    "id": "pfDuxZAcj--R"
   },
   "outputs": [
    {
     "name": "stdout",
     "output_type": "stream",
     "text": [
      "6\n",
      "28\n",
      "496\n",
      "8128\n"
     ]
    }
   ],
   "source": [
    "def pn(num):\n",
    "    n = 1\n",
    "    count = 0\n",
    "    while count < 4:\n",
    "        sum = 0\n",
    "        for i in range(1, n):\n",
    "            if n % i == 0:\n",
    "                sum +=i\n",
    "        if sum == n:\n",
    "            print(n)\n",
    "            count += 1\n",
    "        n += 1\n",
    "pn(4)"
   ]
  },
  {
   "cell_type": "markdown",
   "metadata": {
    "id": "Wv5N6tzvkMlN"
   },
   "source": [
    "**Problem 7**\n",
    "\n",
    "Write a python function that takes 2 parameters lower and upper (range). Let the function returns pairs of amicable numbers in that range.\n",
    "\n",
    "Two different numbers are called amicable numbers if the sum of the proper divisors of each is equal to the other number. For example 220 and 284 are amicable numbers.\n",
    "\n",
    "For example if we call that function: amicableNumbers(1, 1000)\n",
    "\n",
    "The function must return: **[220, 284]**\n",
    "\n",
    "\n",
    "*Why they are amicable numbers ?*\n",
    "\n",
    "Sum of proper divisors of **220** = 1+2+4+5+10+11+20+22+44+55+110 = **284**\n",
    "\n",
    "Sum of proper divisors of **284** = 1+2+4+71+142 = **220**\n",
    "\n",
    "\n",
    "\n"
   ]
  },
  {
   "cell_type": "code",
   "execution_count": 178,
   "metadata": {},
   "outputs": [
    {
     "name": "stdout",
     "output_type": "stream",
     "text": [
      "3\n"
     ]
    }
   ],
   "source": [
    "mydict ={\n",
    "    \"a\" : 1,\n",
    "    \"b\" : 2,\n",
    "    \"c\" : 3,\n",
    "    \"d\" : 4\n",
    "}\n",
    "print(mydict[\"c\"])"
   ]
  },
  {
   "cell_type": "code",
   "execution_count": 186,
   "metadata": {},
   "outputs": [
    {
     "name": "stdout",
     "output_type": "stream",
     "text": [
      "[220, 284]\n"
     ]
    }
   ],
   "source": [
    "def proper_divisor(num):\n",
    "    properlist = []\n",
    "    for i in range (1,num//2+1):\n",
    "        if num%i == 0:\n",
    "            properlist.append(i)\n",
    "    else:\n",
    "        return sum(properlist)\n",
    "def amicable(lower, upper):\n",
    "    num = [i for i in range(lower,upper+1)]\n",
    "    sumofpd = [proper_divisor(k) for k in range(lower,upper+1)]\n",
    "    \n",
    "    mydict = {}\n",
    "    result = []\n",
    "    for i in range(len(num)):\n",
    "        mydict[num[i]] = sumofpd[i]\n",
    "    for k,v in mydict.items():\n",
    "        if v in mydict.keys() and k == mydict[v] and k != v and k not in result and v not in result:\n",
    "            result.append(k)\n",
    "            result.append(v)\n",
    "    print(result)\n",
    "amicable(1, 1000)\n",
    " "
   ]
  },
  {
   "cell_type": "code",
   "execution_count": 158,
   "metadata": {
    "id": "402wOy0fk6o9"
   },
   "outputs": [
    {
     "data": {
      "text/plain": [
       "[1, 2, 4, 5, 8, 10, 20, 25, 40, 50, 100, 125, 200, 250, 500]"
      ]
     },
     "execution_count": 158,
     "metadata": {},
     "output_type": "execute_result"
    }
   ],
   "source": [
    "# the addition of proper divisor is total of the pair\n",
    "\n",
    "def amicable(lower, upper):\n",
    "    count = 0\n",
    "    properdivisor = []\n",
    "    while count < upper:\n",
    "        sum = 0\n",
    "        for i in range(1, upper):\n",
    "            if upper % i == 0:\n",
    "                properdivisor.append(i)\n",
    "                sum = sum + i      \n",
    "        return properdivisor\n",
    "        i += 1     \n",
    "    count += 1  \n",
    "\n",
    "amicable(1, 1000)\n",
    " "
   ]
  },
  {
   "cell_type": "markdown",
   "metadata": {
    "id": "C0KGpzm73ZjE"
   },
   "source": [
    "**Problem 8**\n",
    "\n",
    "Write a python function that takes variable length parameters and returns maximum and minimum number in the parameter numbers.\n",
    "\n",
    "For example if we call the function: maximumMinimum(10, 20, 30, 40, 50)\n",
    "\n",
    "The function must return: **[10, 50]**"
   ]
  },
  {
   "cell_type": "code",
   "execution_count": 51,
   "metadata": {
    "id": "t-24AVom39FU"
   },
   "outputs": [
    {
     "name": "stdout",
     "output_type": "stream",
     "text": [
      "[10, 50]\n"
     ]
    }
   ],
   "source": [
    "def lenght(*num): \n",
    "    \n",
    "    minimum = min(num)\n",
    "    maximum = max(num)\n",
    "    print([minimum, maximum])\n",
    "\n",
    "lenght(10,20,30,40,50)"
   ]
  },
  {
   "cell_type": "markdown",
   "metadata": {
    "id": "Fz9twS264CYO"
   },
   "source": [
    "**Problem 9**\n",
    "\n",
    "Write a simple Python function that takes a number(n) as a parameter. Then the function prints out the first n rows of Pascal's triangle. Note : Pascal's triangle is an arithmetic and geometric figure first imagined by Blaise Pascal.\n",
    "\n",
    "\n",
    "\n",
    "![pascaltriangle.png](data:image/png;base64,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)"
   ]
  },
  {
   "cell_type": "code",
   "execution_count": 63,
   "metadata": {
    "id": "-wbHovdMom2c"
   },
   "outputs": [
    {
     "name": "stdout",
     "output_type": "stream",
     "text": [
      "[' ', ' ', ' ', ' ', 1, ' ', ' ', ' ', ' ']\n",
      "[' ', ' ', ' ', 1, ' ', 1, ' ', ' ', ' ']\n",
      "[' ', ' ', 1, ' ', 2, ' ', 1, ' ', ' ']\n",
      "[' ', 1, ' ', 3, ' ', 3, ' ', 1, ' ']\n",
      "[1, ' ', 4, ' ', 6, ' ', 4, ' ', 1]\n",
      "    1    \n",
      "   1 1   \n",
      "  1 2 1  \n",
      " 1 3 3 1 \n",
      "1 4 6 4 1\n",
      "\n"
     ]
    }
   ],
   "source": [
    "#multiple row and multiple columns\n",
    "\n",
    "rows = int(input(\"Enter number of rows: \"))\n",
    "col = rows*2 -1\n",
    "space = [[\" \"for i in range(col)]for i in range(rows)]\n",
    "index_mid = (col-1)//2\n",
    "\n",
    "for i in range(len(space)):\n",
    "    if i == 0:\n",
    "        space[i][index_mid] = 1 #why  =1 ?\n",
    "    else:\n",
    "        space[i][index_mid-i] = 1 #ni apa \n",
    "        space[i][index_mid+i] = 1 #\n",
    "    if i > 1:\n",
    "        for j in range(index_mid-i+2,index_mid+i,2):\n",
    "            space[i][j] = space[i-1][j-1] + space[i-1][j+1]\n",
    "\n",
    "for i in space:\n",
    "    print(i)\n",
    "result = \"\"\n",
    "for i in space:\n",
    "    for j in i:\n",
    "        result += str(j)\n",
    "    else:\n",
    "        result+= \"\\n\"\n",
    "\n",
    "print(result)"
   ]
  },
  {
   "cell_type": "markdown",
   "metadata": {
    "id": "_9cMELSZopF2"
   },
   "source": [
    "**Problem 10**\n",
    "\n",
    "Write a simple python function that accepts a hyphen-separated sequence of words as parameter and returns the words in a hyphen-separated sequence after sorting them alphabetically.\n",
    "\n",
    "Sample Items : green-red-yellow-black-white\n",
    "\n",
    "Expected Result : black-green-red-white-yellow"
   ]
  },
  {
   "cell_type": "code",
   "execution_count": null,
   "metadata": {
    "id": "8YTu76gepE3D"
   },
   "outputs": [
    {
     "name": "stdout",
     "output_type": "stream",
     "text": [
      "black-green-red-white-yellow\n"
     ]
    }
   ],
   "source": [
    "def colors(color):  \n",
    "    color = color.split(\"-\")\n",
    "    color.sort()\n",
    "    print(\"-\".join(color)) \n",
    "\n",
    "colors(\"green-red-yellow-black-white\")"
   ]
  },
  {
   "cell_type": "markdown",
   "metadata": {
    "id": "Tv5Nit_g92W9"
   },
   "source": [
    "**Problem 11**\n",
    "\n",
    "Flatten a List of Lists\n",
    "Write a Python program to flatten the given list into a single list using list comprehension.\n",
    "\n",
    "Given list:\n",
    "[[1, 2, 3], [4, 5], [6, 7, 8, 9]]\n",
    "\n",
    "Expected result:\n",
    "[1, 2, 3, 4, 5, 6, 7, 8, 9]\n"
   ]
  },
  {
   "cell_type": "code",
   "execution_count": 54,
   "metadata": {
    "id": "QQr-OpRb-MVy"
   },
   "outputs": [
    {
     "name": "stdout",
     "output_type": "stream",
     "text": [
      "[1, 2, 3, 4, 5, 6, 7, 8, 9]\n"
     ]
    }
   ],
   "source": [
    "n = [[1, 2, 3], [4, 5], [6, 7, 8, 9]]\n",
    "flat= [num for sublist in n for num in sublist ]\n",
    "print(flat)"
   ]
  },
  {
   "cell_type": "markdown",
   "metadata": {
    "id": "x512vHWn-QT1"
   },
   "source": [
    "**Problem 12:**\n",
    "\n",
    "Write a simple python function that accepts a sentence and extract all the vowels from the sentence using list comprehension.\n",
    "\n",
    "Input: \"The quick brown fox jumps over the lazy dog\"\n",
    "\n",
    "Expected Result: ['e', 'u', 'i', 'o', 'o', 'u', 'o', 'e', 'a', 'o']"
   ]
  },
  {
   "cell_type": "code",
   "execution_count": 71,
   "metadata": {},
   "outputs": [
    {
     "name": "stdout",
     "output_type": "stream",
     "text": [
      "['e', 'u', 'i', 'o', 'o', 'u', 'o', 'e', 'e', 'a', 'o']\n"
     ]
    }
   ],
   "source": [
    "def text(sentence): \n",
    "    result = [char for char in sentence if char in \"aeiouAEIOU\"]\n",
    "    print(result)\n",
    "\n",
    "a = input(\"Enter a sentence\")\n",
    "text(a)"
   ]
  },
  {
   "cell_type": "code",
   "execution_count": null,
   "metadata": {
    "id": "JrydN2-f-vvO"
   },
   "outputs": [
    {
     "name": "stdout",
     "output_type": "stream",
     "text": [
      "[] 0\n"
     ]
    }
   ],
   "source": [
    "def text(*sentence): \n",
    "    v = \"aeiouAEIOU\"\n",
    "    f = []\n",
    "    count = 0\n",
    "    for char in sentence:\n",
    "        if char in v:\n",
    "            f.append(char)   \n",
    "            count += 1 \n",
    "    print(f, count)\n",
    "\n",
    "a = input(\"Enter a sentence\")\n",
    "text(a)"
   ]
  },
  {
   "cell_type": "markdown",
   "metadata": {
    "id": "ua7Txnrx-24j"
   },
   "source": [
    "**Problem 13:**\n",
    "\n",
    "Matrix Transposition\n",
    "\n",
    "Write a simple python function that accepts a 3x3 matrix and transpose the matrix using list comprehension.\n",
    "\n",
    "Input:\n",
    "\n",
    "1, 2, 3\n",
    "\n",
    "4, 5, 6\n",
    "\n",
    "7, 8, 9\n",
    "\n",
    "\n",
    "Expected Result:\n",
    "\n",
    "Given matrix: [\n",
    "  [1, 2, 3],\n",
    "  [4, 5, 6],\n",
    "  [7, 8, 9]\n",
    "]\n",
    "\n",
    "Transponsed Matrix: [\n",
    "    [1, 4, 7],\n",
    "    [2, 5, 8],\n",
    "    [3, 6, 9]\n",
    "]"
   ]
  },
  {
   "cell_type": "code",
   "execution_count": 82,
   "metadata": {
    "id": "C2EqlWj2_H9G"
   },
   "outputs": [
    {
     "name": "stdout",
     "output_type": "stream",
     "text": [
      "[[1, 4, 7], [2, 5, 8], [3, 6, 9]]\n"
     ]
    }
   ],
   "source": [
    "def transpose(matrix):\n",
    "    transp = [[matrix[j][i] for j in  range(len(matrix))] for i in range(len(matrix[0]))] \n",
    "    print(transp)\n",
    "\n",
    "result = transpose([\n",
    "  [1, 2, 3],\n",
    "  [4, 5, 6],\n",
    "  [7, 8, 9]\n",
    "]) "
   ]
  },
  {
   "cell_type": "markdown",
   "metadata": {
    "id": "gaarl3ez_SFf"
   },
   "source": [
    "**Problem 14:**\n",
    "\n",
    "Find Maximum Number\n",
    "\n",
    "Write a simple python function that accepts list of numbers and find the maximum number in a list using the reduce function.\n",
    "\n",
    "Input:\n",
    "3, 5, 2, 8, 1\n",
    "\n",
    "Expected Result: 8\n"
   ]
  },
  {
   "cell_type": "code",
   "execution_count": 25,
   "metadata": {},
   "outputs": [
    {
     "name": "stdout",
     "output_type": "stream",
     "text": [
      "8\n"
     ]
    }
   ],
   "source": [
    "from functools import reduce\n",
    "def maximum(old, new):\n",
    "    if old>new:\n",
    "        new=old\n",
    "    return new\n",
    "\n",
    "num = [3, 5, 2, 8, 1]\n",
    "print(reduce(maximum,num)) "
   ]
  },
  {
   "cell_type": "code",
   "execution_count": null,
   "metadata": {
    "id": "8fDi5aSDA8BR"
   },
   "outputs": [
    {
     "data": {
      "text/plain": [
       "8"
      ]
     },
     "execution_count": 84,
     "metadata": {},
     "output_type": "execute_result"
    }
   ],
   "source": [
    "from functools import reduce\n",
    "def maximum(*value):\n",
    "    m = max(value)\n",
    "    return m\n",
    "#guna reduce\n",
    "\n",
    "maximum(3, 5, 2, 8, 1) "
   ]
  },
  {
   "cell_type": "markdown",
   "metadata": {
    "id": "VpAT6kWWA_tz"
   },
   "source": [
    "**Problem 15:**\n",
    "\n",
    "Filter Names Starting with a Specific Letter\n",
    "\n",
    "Write a simple python function that accepts list of names and filter out all names that start with the letter 'A' using the filter function.\n",
    "\n",
    "Input: \"Alice\", \"Bob\", \"Anna\", \"Charlie\", \"Annie\"\n",
    "\n",
    "Expected: 'Alice', 'Anna', 'Annie'"
   ]
  },
  {
   "cell_type": "code",
   "execution_count": 111,
   "metadata": {},
   "outputs": [
    {
     "name": "stdout",
     "output_type": "stream",
     "text": [
      "['Alice', 'Anna', 'Annie']\n"
     ]
    }
   ],
   "source": [
    "def letterA(char):\n",
    "    return char[0] == \"A\"\n",
    "\n",
    "Names =[\"Alice\", \"Bob\", \"Anna\", \"Charlie\", \"Annie\"]\n",
    "a= filter(letterA, Names)\n",
    "print(list(a))\n"
   ]
  },
  {
   "cell_type": "code",
   "execution_count": null,
   "metadata": {
    "id": "KvszZI7lBdrV"
   },
   "outputs": [
    {
     "name": "stdout",
     "output_type": "stream",
     "text": [
      "Alice\n",
      "Anna\n",
      "Annie\n"
     ]
    }
   ],
   "source": [
    "### WOI DIA SURUH GUNA FILTER FUNCTION\n",
    "def letterA(*char):\n",
    "    \n",
    "    for c in char:\n",
    "        if c[0] == \"A\":\n",
    "            print(c) \n",
    "\n",
    "letterA(\"Alice\", \"Bob\", \"Anna\", \"Charlie\", \"Annie\")"
   ]
  },
  {
   "cell_type": "markdown",
   "metadata": {
    "id": "MLQ3NjuCBgfn"
   },
   "source": [
    "**Problem 16:**\n",
    "\n",
    "Square and Filter Odd Numbers\n",
    "\n",
    "Write a Python program that accepts list of numbers and create a list of squares of odd numbers from a given list of integers using map and filter functions.\n",
    "\n",
    "Input: 1, 2, 3, 4, 5, 6, 7, 8, 9, 10\n",
    "\n",
    "Expected Result: 1, 9, 25, 49, 81"
   ]
  },
  {
   "cell_type": "code",
   "execution_count": null,
   "metadata": {
    "id": "ISeMQl-OCHrC"
   },
   "outputs": [
    {
     "data": {
      "text/plain": [
       "[1, 9, 25, 49, 81]"
      ]
     },
     "execution_count": 21,
     "metadata": {},
     "output_type": "execute_result"
    }
   ],
   "source": [
    "def toSquare(value):\n",
    "    return value**2\n",
    "\n",
    "def odd(num):\n",
    "    return num % 2 != 0\n",
    "\n",
    "mynum = [1, 2, 3, 4, 5, 6, 7, 8, 9, 10] \n",
    "square= map(toSquare, mynum)\n",
    "oddd = filter(odd, mynum) \n",
    "print(list(square))\n",
    "print(list(oddd))\n",
    " "
   ]
  },
  {
   "cell_type": "markdown",
   "metadata": {
    "id": "0efIH4hlCIST"
   },
   "source": [
    "**Problem 17:**\n",
    "\n",
    "Fibonacci Sequence\n",
    "\n",
    "Write a recursive Python function to find the n-th Fibonacci number. The Fibonacci sequence is defined as:\n",
    "\n",
    "1. F(0) = 0\n",
    "2. F(1) = 1\n",
    "3. F(n) = F(n-1) + F(n-2) for n > 1"
   ]
  },
  {
   "cell_type": "code",
   "execution_count": null,
   "metadata": {
    "id": "Lifz9THJCgXq"
   },
   "outputs": [],
   "source": [
    "# for loop to find fiboncai\n",
    "\n",
    "# then sumbat recursive "
   ]
  },
  {
   "cell_type": "markdown",
   "metadata": {
    "id": "YGpZ6-koChFa"
   },
   "source": [
    "**Problem 18:**\n",
    "\n",
    "Write a recursive Python function to check if a given string is a palindrome (reads the same forwards and backwards).\n",
    "\n",
    "Input: \"radar\"\n",
    "\n",
    "Expected Result: True"
   ]
  },
  {
   "cell_type": "code",
   "execution_count": 96,
   "metadata": {
    "id": "F-wyTHwxCxYQ"
   },
   "outputs": [
    {
     "data": {
      "text/plain": [
       "True"
      ]
     },
     "execution_count": 96,
     "metadata": {},
     "output_type": "execute_result"
    }
   ],
   "source": [
    "def reverse(char):\n",
    "    if char == char[::-1]:\n",
    "        return True     \n",
    "    else:\n",
    "        print(char)\n",
    "        reverse(char- 1)\n",
    "\n",
    "reverse(\"radar\")"
   ]
  },
  {
   "cell_type": "markdown",
   "metadata": {
    "id": "M6EWsElNCyeq"
   },
   "source": [
    "**Problem 19:**\n",
    "\n",
    "Compose Functions\n",
    "\n",
    "Write a Python function *def compose (f, g)* that takes any two functions f and g as parameter, and returns a *new function h* such that h(x) = f(g(x)).\n",
    "\n",
    "Note: The function f and g are taking single parameter."
   ]
  },
  {
   "cell_type": "code",
   "execution_count": 97,
   "metadata": {},
   "outputs": [
    {
     "name": "stdout",
     "output_type": "stream",
     "text": [
      "0.0625\n"
     ]
    }
   ],
   "source": [
    "def f (x):\n",
    "  return x**2\n",
    "\n",
    "def g (x):\n",
    "  return x/8\n",
    "\n",
    "def compose(f,g):\n",
    "  def h(a,b):\n",
    "    y = a(b(int(input())))\n",
    "    return y\n",
    "  return h(f,g)\n",
    "\n",
    "hx = compose(f,g)\n",
    "print(hx)"
   ]
  },
  {
   "cell_type": "code",
   "execution_count": 111,
   "metadata": {
    "id": "0tfVFUK7Dt_U"
   },
   "outputs": [
    {
     "name": "stdout",
     "output_type": "stream",
     "text": [
      "2.25\n"
     ]
    }
   ],
   "source": [
    "#dia nak  new fx berbeza beza , define je apa apa \n",
    "def f (x):\n",
    "  return x**2\n",
    "\n",
    "def g (x):\n",
    "  return x/8\n",
    "\n",
    "def compose(f,g):\n",
    "  def h(a,b):\n",
    "    y = a(b(int(input())))\n",
    "    return y\n",
    "  return h(f,g)\n",
    "\n",
    "hx = compose(f,g)\n",
    "print(hx)"
   ]
  },
  {
   "cell_type": "markdown",
   "metadata": {
    "id": "D1jlYGKPDvBb"
   },
   "source": [
    "**Problem 20**\n",
    "\n",
    "Implement a decorator called count_calls that keeps track of how many times a function has been called.\n",
    "\n",
    "*Decorator function*\n",
    "\n",
    "def count_calls(func):<br/>\n",
    "&nbsp;&nbsp;&nbsp;&nbsp;Your code here\n",
    "\n",
    "*Function with decorator*\n",
    "\n",
    "@count_calls<br/>\n",
    "def greet(name):<br/>\n",
    "&nbsp;&nbsp;&nbsp;&nbsp;print(f\"Hello, {name}!\")\n",
    "\n",
    "greet(\"Alice\")\n",
    "greet(\"Bob\")\n",
    "\n",
    "Expected Output:\n",
    "\n",
    "Function 'greet' was called 2 times."
   ]
  },
  {
   "cell_type": "code",
   "execution_count": 110,
   "metadata": {
    "id": "1OxEp8jKKDLd"
   },
   "outputs": [
    {
     "name": "stdout",
     "output_type": "stream",
     "text": [
      "Decorator: before the function calls\n",
      "Hello, Alicia!\n",
      "Decorator: after the function calls\n"
     ]
    },
    {
     "ename": "AttributeError",
     "evalue": "'function' object has no attribute '_name_'",
     "output_type": "error",
     "traceback": [
      "\u001b[1;31m---------------------------------------------------------------------------\u001b[0m",
      "\u001b[1;31mAttributeError\u001b[0m                            Traceback (most recent call last)",
      "Cell \u001b[1;32mIn[110], line 17\u001b[0m\n\u001b[0;32m     13\u001b[0m \u001b[38;5;129m@count_decorator\u001b[39m\n\u001b[0;32m     14\u001b[0m \u001b[38;5;28;01mdef\u001b[39;00m \u001b[38;5;21mgreet\u001b[39m(name):\n\u001b[0;32m     15\u001b[0m    \u001b[38;5;28mprint\u001b[39m(\u001b[38;5;124mf\u001b[39m\u001b[38;5;124m\"\u001b[39m\u001b[38;5;124mHello, \u001b[39m\u001b[38;5;132;01m{\u001b[39;00mname\u001b[38;5;132;01m}\u001b[39;00m\u001b[38;5;124m!\u001b[39m\u001b[38;5;124m\"\u001b[39m)\n\u001b[1;32m---> 17\u001b[0m \u001b[43mgreet\u001b[49m\u001b[43m(\u001b[49m\u001b[38;5;124;43m\"\u001b[39;49m\u001b[38;5;124;43mAlicia\u001b[39;49m\u001b[38;5;124;43m\"\u001b[39;49m\u001b[43m)\u001b[49m\n\u001b[0;32m     18\u001b[0m greet(\u001b[38;5;124m\"\u001b[39m\u001b[38;5;124mBob\u001b[39m\u001b[38;5;124m\"\u001b[39m)\n",
      "Cell \u001b[1;32mIn[110], line 7\u001b[0m, in \u001b[0;36mcount_decorator.<locals>.count_function\u001b[1;34m(*args, **kargs)\u001b[0m\n\u001b[0;32m      5\u001b[0m result \u001b[38;5;241m=\u001b[39mfunc(\u001b[38;5;241m*\u001b[39margs, \u001b[38;5;241m*\u001b[39m\u001b[38;5;241m*\u001b[39mkargs)\n\u001b[0;32m      6\u001b[0m \u001b[38;5;28mprint\u001b[39m(\u001b[38;5;124m\"\u001b[39m\u001b[38;5;124mDecorator: after the function calls\u001b[39m\u001b[38;5;124m\"\u001b[39m)\n\u001b[1;32m----> 7\u001b[0m \u001b[38;5;28mprint\u001b[39m(\u001b[38;5;124mf\u001b[39m\u001b[38;5;124m\"\u001b[39m\u001b[38;5;124mFunction \u001b[39m\u001b[38;5;124m'\u001b[39m\u001b[38;5;132;01m{\u001b[39;00m\u001b[43mfunc\u001b[49m\u001b[38;5;241;43m.\u001b[39;49m\u001b[43m_name_\u001b[49m\u001b[38;5;132;01m}\u001b[39;00m\u001b[38;5;124m'\u001b[39m\u001b[38;5;124m was called \u001b[39m\u001b[38;5;132;01m{\u001b[39;00mcount_function\u001b[38;5;241m.\u001b[39mcall\u001b[38;5;132;01m}\u001b[39;00m\u001b[38;5;124m times.\u001b[39m\u001b[38;5;124m\"\u001b[39m)\n\u001b[0;32m      8\u001b[0m \u001b[38;5;28;01mreturn\u001b[39;00m result\n",
      "\u001b[1;31mAttributeError\u001b[0m: 'function' object has no attribute '_name_'"
     ]
    }
   ],
   "source": [
    "def count_decorator(func):\n",
    "   def count_function(*args, **kargs):\n",
    "      count_function.call +=1\n",
    "      print(\"Decorator: before the function calls\")\n",
    "      result =func(*args, **kargs)\n",
    "      print(\"Decorator: after the function calls\")\n",
    "      print(f\"Function '{func._name_}' was called {count_function.call} times.\")\n",
    "      return result\n",
    "   count_function.call = 0\n",
    "   return count_function\n",
    "\n",
    "\n",
    "@count_decorator\n",
    "def greet(name):\n",
    "   print(f\"Hello, {name}!\")\n",
    "\n",
    "greet(\"Alicia\")\n",
    "greet(\"Bob\")"
   ]
  },
  {
   "cell_type": "markdown",
   "metadata": {
    "id": "pA47lU3f1mFc"
   },
   "source": [
    "**Problem 21: Shopping Cart**\n",
    "\n",
    "Create a function add_to_cart(item, quantity=1, price_per_item=5) that calculates the total cost for adding an item to a shopping cart. If quantity or price_per_item is not specified, assume default values. Return a dictionary with the item name, quantity, price per item, and total cost. For example:\n",
    "\n",
    "**Input**\n",
    "\n",
    "add_to_cart(\"Apple\")\n",
    "\n",
    "**Output**\n",
    "\n",
    "{\"item\": \"Apple\", \"quantity\": 1, \"price_per_item\": 5, \"total_cost\": 5}\n",
    "\n",
    "**Input**\n",
    "\n",
    "add_to_cart(\"Banana\", 3, 2)\n",
    "\n",
    "**Output**\n",
    "\n",
    "{\"item\": \"Banana\", \"quantity\": 3, \"price_per_item\": 2, \"total_cost\": 6}"
   ]
  },
  {
   "cell_type": "code",
   "execution_count": 64,
   "metadata": {
    "id": "n2xSi9tn2Yui"
   },
   "outputs": [
    {
     "name": "stdout",
     "output_type": "stream",
     "text": [
      "{'item': 'Banana', 'quantity': 3, 'price_per_item': 2, 'total_cost': 6}\n"
     ]
    }
   ],
   "source": [
    "def add_to_cart(item, quantity=1, price_per_item=5):\n",
    "  total_cost = quantity * price_per_item\n",
    "\n",
    "  cart = {\n",
    "      \"item\": item,\n",
    "      \"quantity\": quantity,\n",
    "      \"price_per_item\": price_per_item,\n",
    "      \"total_cost\": total_cost\n",
    "      }\n",
    "  return cart\n",
    "\n",
    "print(add_to_cart(\"Banana\", 3, 2))"
   ]
  },
  {
   "cell_type": "markdown",
   "metadata": {
    "id": "X1UrCjhE2nop"
   },
   "source": [
    "**Problem 22: Flexible Greeting**\n",
    "\n",
    "Define a function\n",
    "\n",
    "multi_greet(name=\"Friend\", *messages)\n",
    "\n",
    "that accepts a name and an arbitrary number of greeting messages. If no messages are provided, greet with \"Hello\". Test with and without providing additional greetings."
   ]
  },
  {
   "cell_type": "code",
   "execution_count": 101,
   "metadata": {
    "id": "mF5F5Tfu2xsE"
   },
   "outputs": [
    {
     "name": "stdout",
     "output_type": "stream",
     "text": [
      "Hello Friend\n",
      "Hello Nora Goodluck! Do the best!\n"
     ]
    }
   ],
   "source": [
    "#arbtrary is any number\n",
    "\n",
    "def multi_greet(name=\"Friend\", *messages):\n",
    "    if not messages:\n",
    "        print(f\"Hello {name}\")\n",
    "    else:\n",
    "        Join = \" \".join(messages)\n",
    "        print(f\"Hello {name} {Join}\") \n",
    "\n",
    "multi_greet()\n",
    "multi_greet(\"Nora\",\"Goodluck!\", \"Do the best!\")\n",
    " "
   ]
  },
  {
   "cell_type": "markdown",
   "metadata": {
    "id": "S2vOTURq3um0"
   },
   "source": [
    "**Problem 23: Personal Information**\n",
    "\n",
    "Write a function display_info(**kwargs) that accepts any number of named arguments and returns a formatted string with the person's information. For example:\n",
    "\n",
    "**Input**\n",
    "\n",
    "display_info(name=\"Alice\", age=25, city=\"New York\")\n",
    "\n",
    "**Ouput**\n",
    "\n",
    "\"Name: Alice, Age: 25, City: New York\"\n",
    "\n",
    "**Input**\n",
    "\n",
    "display_info(name=\"Bob\", country=\"USA\")\n",
    "\n",
    "**Output**\n",
    "\n",
    "\"Name: Bob, Country: USA\"\n"
   ]
  },
  {
   "cell_type": "code",
   "execution_count": null,
   "metadata": {
    "id": "Hdn9eTzV4BQs"
   },
   "outputs": [
    {
     "name": "stdout",
     "output_type": "stream",
     "text": [
      "Name: Alice\n",
      "Age: 25\n",
      "City: New York\n"
     ]
    },
    {
     "ename": "KeyError",
     "evalue": "'country'",
     "output_type": "error",
     "traceback": [
      "\u001b[1;31m---------------------------------------------------------------------------\u001b[0m",
      "\u001b[1;31mKeyError\u001b[0m                                  Traceback (most recent call last)",
      "Cell \u001b[1;32mIn[99], line 8\u001b[0m\n\u001b[0;32m      4\u001b[0m     \u001b[38;5;28mprint\u001b[39m(\u001b[38;5;124m\"\u001b[39m\u001b[38;5;124mCity:\u001b[39m\u001b[38;5;124m\"\u001b[39m,kwargs[\u001b[38;5;124m\"\u001b[39m\u001b[38;5;124mcity\u001b[39m\u001b[38;5;124m\"\u001b[39m])\n\u001b[0;32m      5\u001b[0m     \u001b[38;5;28mprint\u001b[39m(\u001b[38;5;124m\"\u001b[39m\u001b[38;5;124mCountry:\u001b[39m\u001b[38;5;124m\"\u001b[39m,kwargs[\u001b[38;5;124m\"\u001b[39m\u001b[38;5;124mcountry\u001b[39m\u001b[38;5;124m\"\u001b[39m])\n\u001b[1;32m----> 8\u001b[0m \u001b[43mdisplay_info\u001b[49m\u001b[43m(\u001b[49m\u001b[43mname\u001b[49m\u001b[38;5;241;43m=\u001b[39;49m\u001b[38;5;124;43m\"\u001b[39;49m\u001b[38;5;124;43mAlice\u001b[39;49m\u001b[38;5;124;43m\"\u001b[39;49m\u001b[43m,\u001b[49m\u001b[43m \u001b[49m\u001b[43mage\u001b[49m\u001b[38;5;241;43m=\u001b[39;49m\u001b[38;5;241;43m25\u001b[39;49m\u001b[43m,\u001b[49m\u001b[43m \u001b[49m\u001b[43mcity\u001b[49m\u001b[38;5;241;43m=\u001b[39;49m\u001b[38;5;124;43m\"\u001b[39;49m\u001b[38;5;124;43mNew York\u001b[39;49m\u001b[38;5;124;43m\"\u001b[39;49m\u001b[43m)\u001b[49m\n\u001b[0;32m      9\u001b[0m display_info(name\u001b[38;5;241m=\u001b[39m\u001b[38;5;124m\"\u001b[39m\u001b[38;5;124mBob\u001b[39m\u001b[38;5;124m\"\u001b[39m, country\u001b[38;5;241m=\u001b[39m\u001b[38;5;124m\"\u001b[39m\u001b[38;5;124mUSA\u001b[39m\u001b[38;5;124m\"\u001b[39m)\n",
      "Cell \u001b[1;32mIn[99], line 5\u001b[0m, in \u001b[0;36mdisplay_info\u001b[1;34m(**kwargs)\u001b[0m\n\u001b[0;32m      3\u001b[0m \u001b[38;5;28mprint\u001b[39m(\u001b[38;5;124m\"\u001b[39m\u001b[38;5;124mAge:\u001b[39m\u001b[38;5;124m\"\u001b[39m,kwargs[\u001b[38;5;124m\"\u001b[39m\u001b[38;5;124mage\u001b[39m\u001b[38;5;124m\"\u001b[39m])\n\u001b[0;32m      4\u001b[0m \u001b[38;5;28mprint\u001b[39m(\u001b[38;5;124m\"\u001b[39m\u001b[38;5;124mCity:\u001b[39m\u001b[38;5;124m\"\u001b[39m,kwargs[\u001b[38;5;124m\"\u001b[39m\u001b[38;5;124mcity\u001b[39m\u001b[38;5;124m\"\u001b[39m])\n\u001b[1;32m----> 5\u001b[0m \u001b[38;5;28mprint\u001b[39m(\u001b[38;5;124m\"\u001b[39m\u001b[38;5;124mCountry:\u001b[39m\u001b[38;5;124m\"\u001b[39m,\u001b[43mkwargs\u001b[49m\u001b[43m[\u001b[49m\u001b[38;5;124;43m\"\u001b[39;49m\u001b[38;5;124;43mcountry\u001b[39;49m\u001b[38;5;124;43m\"\u001b[39;49m\u001b[43m]\u001b[49m)\n",
      "\u001b[1;31mKeyError\u001b[0m: 'country'"
     ]
    }
   ],
   "source": [
    "def display_info(**kwargs):\n",
    "    print(\"Name:\",kwargs[\"name\"])\n",
    "    print(\"Age:\",kwargs[\"age\"])\n",
    "    print(\"City:\",kwargs[\"city\"])\n",
    "    print(\"Country:\",kwargs[\"country\"])\n",
    "    \n",
    "def display_infoo(**kwargs):\n",
    "    print(\"Name:\",kwargs[\"name\"]) \n",
    "    print(\"Country:\",kwargs[\"country\"])\n",
    "\n",
    "display_info(name=\"Alice\", age=25, city=\"New York\")\n",
    "display_infoo(name=\"Bob\", country=\"USA\")"
   ]
  },
  {
   "cell_type": "markdown",
   "metadata": {
    "id": "N8erLAYM4j4g"
   },
   "source": [
    "**Problem 24: Build a URL Query**\n",
    "\n",
    "Define a function build_url(base, **params) that builds a URL from a base and a series of query parameters. For example:\n",
    "\n",
    "**Input**\n",
    "\n",
    "build_url(\"https://example.com\", search=\"python\", page=2)\n",
    "\n",
    "**Output**\n",
    "\n",
    "https://example.com?search=python&page=2\n",
    "\n",
    "**Input**\n",
    "\n",
    "build_url(\"https://example.com\")\n",
    "\n",
    "**Output**\n",
    "\n",
    "https://example.com\n"
   ]
  },
  {
   "cell_type": "code",
   "execution_count": 105,
   "metadata": {},
   "outputs": [
    {
     "name": "stdout",
     "output_type": "stream",
     "text": [
      "https://example.com?search=python&page=2\n"
     ]
    }
   ],
   "source": [
    "#corrected ai\n",
    "\n",
    "def build_url(base, **params):\n",
    "    if params:\n",
    "        query_string = \"&\".join([f\"{key}={value}\" for key, value in params.items()])\n",
    "        return f\"{base}?{query_string}\"\n",
    "    return base\n",
    "\n",
    "result = build_url(\"https://example.com\", search=\"python\", page=2)\n",
    "print(result)"
   ]
  },
  {
   "cell_type": "code",
   "execution_count": 104,
   "metadata": {
    "id": "ZxiiojzZ4z0I"
   },
   "outputs": [
    {
     "name": "stdout",
     "output_type": "stream",
     "text": [
      "https://example.com?search=python&page=2\n",
      "https://example.com?search=python&page=2\n"
     ]
    },
    {
     "data": {
      "text/plain": [
       "'https://example.com'"
      ]
     },
     "execution_count": 104,
     "metadata": {},
     "output_type": "execute_result"
    }
   ],
   "source": [
    "def build_url(base, **params):\n",
    "    for _ in params:\n",
    "        print(f\"{base}?search={params[\"search\"]}&page={params[\"page\"]}\")\n",
    "    else:\n",
    "        return base\n",
    "\n",
    "build_url(\"https://example.com\", search=\"python\", page=2)"
   ]
  },
  {
   "cell_type": "markdown",
   "metadata": {
    "id": "VXjvA5I65Xi6"
   },
   "source": [
    "**Problem 25: Student Grades**\n",
    "\n",
    "Create a function\n",
    "\n",
    "calculate_grades(student_name, *scores, **details)\n",
    "\n",
    "that calculates the average score for a student. The details dictionary may contain additional information like subject=\"Math\", level=\"Grade 10\". For example:\n",
    "\n",
    "**Input**\n",
    "\n",
    "calculate_grades(\"Alice\", 90, 85, 88, subject=\"Math\", level=\"Grade 10\")\n",
    "\n",
    "**Output**\n",
    "\n",
    "Alice's average in Math (Grade 10): 87.7\n",
    "\n",
    "**Input**\n",
    "\n",
    "calculate_grades(\"Bob\", 70, 65, 80)\n",
    "\n",
    "**Output**\n",
    "Bob's average: 71.7\n"
   ]
  },
  {
   "cell_type": "code",
   "execution_count": 107,
   "metadata": {
    "id": "7TmRWbKH5sGr"
   },
   "outputs": [
    {
     "data": {
      "text/plain": [
       "87.66666666666667"
      ]
     },
     "execution_count": 107,
     "metadata": {},
     "output_type": "execute_result"
    }
   ],
   "source": [
    "def calculate_grades(student_name, *scores, **details):\n",
    "    result = 0.0\n",
    "    for i in scores:\n",
    "        result = result + float(i)\n",
    "    i +=1\n",
    "    return result / float(len(scores))\n",
    "    \n",
    "calculate_grades(\"Alice\", 90, 85, 88, subject=\"Math\", level=\"Grade 10\")"
   ]
  }
 ],
 "metadata": {
  "colab": {
   "provenance": []
  },
  "kernelspec": {
   "display_name": "Python 3",
   "name": "python3"
  },
  "language_info": {
   "codemirror_mode": {
    "name": "ipython",
    "version": 3
   },
   "file_extension": ".py",
   "mimetype": "text/x-python",
   "name": "python",
   "nbconvert_exporter": "python",
   "pygments_lexer": "ipython3",
   "version": "3.12.3"
  }
 },
 "nbformat": 4,
 "nbformat_minor": 0
}
