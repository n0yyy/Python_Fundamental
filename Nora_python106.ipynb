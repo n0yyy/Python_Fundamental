{
 "cells": [
  {
   "cell_type": "markdown",
   "metadata": {
    "id": "QoMGXk6UXHB9"
   },
   "source": [
    "**Problem 1**\n",
    "\n",
    "A pangram is a sentence using every letter of the alphabet at least once. It is case insensitive, so it doesn't matter if a letter is lower-case (e.g. k) or upper-case (e.g. K).\n",
    "\n",
    "For this exercise, a sentence is a pangram if it contains each of the 26 letters in the English alphabet.\n",
    "\n",
    "Example: The quick brown fox jumps over the lazy dog.\n",
    "\n",
    "*Your task is to figure out if a sentence is a pangram.*"
   ]
  },
  {
   "cell_type": "code",
   "execution_count": 38,
   "metadata": {
    "colab": {
     "base_uri": "https://localhost:8080/"
    },
    "id": "rDS-zDSbXBNK",
    "outputId": "36635e6b-ae38-4eb1-af96-1f7691665cf9"
   },
   "outputs": [
    {
     "data": {
      "text/plain": [
       "'Paragram'"
      ]
     },
     "execution_count": 38,
     "metadata": {},
     "output_type": "execute_result"
    }
   ],
   "source": [
    "def check(aplhabet):\n",
    "\n",
    "  for txt in alpha:\n",
    "    if txt not in aplhabet:\n",
    "      return \"not Pangram\"\n",
    "    else:\n",
    "      return \"Paragram\"\n",
    "  \n",
    "alpha = \"abcdefghijklmnopqrstuvwxyzABCDEFGHIJKLMNOPQRSTUVWXYZ\"\n",
    "text = \"The quick brown fox jumps over the lazy dog.\"\n",
    "\n",
    "check(text)\n"
   ]
  },
  {
   "cell_type": "markdown",
   "metadata": {
    "id": "nx1PnYYdXomU"
   },
   "source": [
    "**Problem 2**\n",
    "\n",
    "An isogram (also known as a \"non-pattern word\") is a word or phrase without a repeating letter, however spaces and hyphens are allowed to appear multiple times.\n",
    "\n",
    "Examples of isograms:\n",
    "\n",
    "lumberjacks\n",
    "background\n",
    "downstream\n",
    "six-year-old\n",
    "\n",
    "The word isograms, however, is not an isogram, because the s repeats.\n",
    "\n",
    "*Your task is to figure out if the user input is isogram*"
   ]
  },
  {
   "cell_type": "code",
   "execution_count": 44,
   "metadata": {
    "id": "VygYtSBRXzb7"
   },
   "outputs": [
    {
     "name": "stdout",
     "output_type": "stream",
     "text": [
      "Phrase is not an isogram\n"
     ]
    }
   ],
   "source": [
    "text = \"lumberjacks background downstream six-year-old \"\n",
    "result = 0\n",
    "for char in text:\n",
    "    if text.count(char)> 1:\n",
    "        result = 1\n",
    "        print( \"Phrase is not an isogram\")\n",
    "        break\n",
    "else: \n",
    "    print( \"Phrase is an isogram\")"
   ]
  },
  {
   "cell_type": "markdown",
   "metadata": {
    "id": "E96wh1LZYk-e"
   },
   "source": [
    "**Problem 3**\n",
    "\n",
    "Parse and evaluate simple math word problems returning the answer as an integer.\n",
    "\n",
    "\n",
    "```\n",
    "What is 5?    -> 5\n",
    "What is 5 plus 13?    -> 13\n",
    "What is 7 minus 5?    -> 2\n",
    "What is 6 multiplied by 4?     -> 24\n",
    "What is 25 divided by 5?       -> 5\n",
    "What is 5 plus 13 plus 6?      -> 24\n",
    "What is 3 plus 2 multiplied by 3?       -> 15\n",
    "```"
   ]
  },
  {
   "cell_type": "code",
   "execution_count": null,
   "metadata": {
    "id": "7Ah4oxC9ZIro"
   },
   "outputs": [
    {
     "name": "stdout",
     "output_type": "stream",
     "text": [
      "What is 5? -> 5\n",
      "What is 5 plus 13? -> 513\n"
     ]
    },
    {
     "ename": "TypeError",
     "evalue": "unsupported operand type(s) for -: 'str' and 'str'",
     "output_type": "error",
     "traceback": [
      "\u001b[1;31m---------------------------------------------------------------------------\u001b[0m",
      "\u001b[1;31mTypeError\u001b[0m                                 Traceback (most recent call last)",
      "Cell \u001b[1;32mIn[72], line 39\u001b[0m\n\u001b[0;32m     28\u001b[0m problems \u001b[38;5;241m=\u001b[39m [\n\u001b[0;32m     29\u001b[0m     \u001b[38;5;124m\"\u001b[39m\u001b[38;5;124mWhat is 5?\u001b[39m\u001b[38;5;124m\"\u001b[39m,\n\u001b[0;32m     30\u001b[0m     \u001b[38;5;124m\"\u001b[39m\u001b[38;5;124mWhat is 5 plus 13?\u001b[39m\u001b[38;5;124m\"\u001b[39m,\n\u001b[1;32m   (...)\u001b[0m\n\u001b[0;32m     35\u001b[0m     \u001b[38;5;124m\"\u001b[39m\u001b[38;5;124mWhat is 3 plus 2 multiplied by 3?\u001b[39m\u001b[38;5;124m\"\u001b[39m\n\u001b[0;32m     36\u001b[0m ]\n\u001b[0;32m     38\u001b[0m \u001b[38;5;28;01mfor\u001b[39;00m problem \u001b[38;5;129;01min\u001b[39;00m problems:\n\u001b[1;32m---> 39\u001b[0m     answer \u001b[38;5;241m=\u001b[39m \u001b[43moperation\u001b[49m\u001b[43m(\u001b[49m\u001b[43mproblem\u001b[49m\u001b[43m)\u001b[49m\n\u001b[0;32m     40\u001b[0m     \u001b[38;5;28mprint\u001b[39m(\u001b[38;5;124mf\u001b[39m\u001b[38;5;124m\"\u001b[39m\u001b[38;5;132;01m{\u001b[39;00mproblem\u001b[38;5;132;01m}\u001b[39;00m\u001b[38;5;124m -> \u001b[39m\u001b[38;5;132;01m{\u001b[39;00manswer\u001b[38;5;132;01m}\u001b[39;00m\u001b[38;5;124m\"\u001b[39m)\n",
      "Cell \u001b[1;32mIn[72], line 21\u001b[0m, in \u001b[0;36moperation\u001b[1;34m(string)\u001b[0m\n\u001b[0;32m     19\u001b[0m     result \u001b[38;5;241m=\u001b[39m result \u001b[38;5;241m+\u001b[39m digit[i\u001b[38;5;241m+\u001b[39m\u001b[38;5;241m1\u001b[39m]\n\u001b[0;32m     20\u001b[0m \u001b[38;5;28;01melif\u001b[39;00m sg \u001b[38;5;241m==\u001b[39m \u001b[38;5;124m\"\u001b[39m\u001b[38;5;124m-\u001b[39m\u001b[38;5;124m\"\u001b[39m:\n\u001b[1;32m---> 21\u001b[0m     result \u001b[38;5;241m=\u001b[39m \u001b[43mresult\u001b[49m\u001b[43m \u001b[49m\u001b[38;5;241;43m-\u001b[39;49m\u001b[43m \u001b[49m\u001b[43mdigit\u001b[49m\u001b[43m[\u001b[49m\u001b[43mi\u001b[49m\u001b[38;5;241;43m+\u001b[39;49m\u001b[38;5;241;43m1\u001b[39;49m\u001b[43m]\u001b[49m\n\u001b[0;32m     22\u001b[0m \u001b[38;5;28;01melif\u001b[39;00m sg \u001b[38;5;241m==\u001b[39m \u001b[38;5;124m\"\u001b[39m\u001b[38;5;124m*\u001b[39m\u001b[38;5;124m\"\u001b[39m:\n\u001b[0;32m     23\u001b[0m     result \u001b[38;5;241m=\u001b[39m result \u001b[38;5;241m*\u001b[39m digit[i\u001b[38;5;241m+\u001b[39m\u001b[38;5;241m1\u001b[39m]\n",
      "\u001b[1;31mTypeError\u001b[0m: unsupported operand type(s) for -: 'str' and 'str'"
     ]
    }
   ],
   "source": [
    "#dictionary plus , minus, semua ... outut just integer , what is tukar kepada sign dict operation\n",
    "\n",
    "def operation (string): \n",
    "    prob = string.replace(\"What is \", \"\").replace(\"?\", \"\").strip().replace(\"plus\", \"+\").replace(\"minus\", \"-\").replace(\"multiplied by\", \"*\").replace(\"divided by\", \"/\")\n",
    "    \n",
    "    digit = []\n",
    "    sign = []\n",
    "\n",
    "    prob = prob.split() \n",
    "    for i in prob:\n",
    "        if i.isdigit():\n",
    "            digit.append(i)\n",
    "        else:\n",
    "            sign.append(i)\n",
    "\n",
    "    result = digit[0] \n",
    "    for i , sg in enumerate(sign): \n",
    "        if sg == \"+\":\n",
    "            result = result + digit[i+1]\n",
    "        elif sg == \"-\":\n",
    "            result = result - digit[i+1]\n",
    "        elif sg == \"*\":\n",
    "            result = result * digit[i+1]\n",
    "        elif sg == \"/\":\n",
    "            result = result / digit[i+1]\n",
    "    return (int(result))\n",
    "\n",
    "problems = [\n",
    "    \"What is 5?\",\n",
    "    \"What is 5 plus 13?\",\n",
    "    \"What is 7 minus 5?\",\n",
    "    \"What is 6 multiplied by 4?\",\n",
    "    \"What is 25 divided by 5?\",\n",
    "    \"What is 5 plus 13 plus 6?\",\n",
    "    \"What is 3 plus 2 multiplied by 3?\"\n",
    "]\n",
    "\n",
    "for problem in problems:\n",
    "    answer = operation(problem)\n",
    "    print(f\"{problem} -> {answer}\")\n",
    " "
   ]
  },
  {
   "cell_type": "code",
   "execution_count": null,
   "metadata": {},
   "outputs": [
    {
     "name": "stdout",
     "output_type": "stream",
     "text": [
      "What is 5? -> 5\n",
      "What is 5 plus 13? -> 18\n",
      "What is 7 minus 5? -> 2\n",
      "What is 6 multiplied by 4? -> 24\n",
      "What is 25 divided by 5? -> 5\n",
      "What is 5 plus 13 plus 6? -> 24\n",
      "What is 3 plus 2 multiplied by 3? -> 9\n"
     ]
    }
   ],
   "source": [
    "#AI\n",
    "def operation (string): \n",
    "    prob = string.replace(\"What is \", \"\").replace(\"?\", \"\").strip().replace(\"plus\", \"+\").replace(\"minus\", \"-\").replace(\"multiplied by\", \"*\").replace(\"divided by\", \"/\")\n",
    "    \n",
    "\n",
    "    try:\n",
    "        # Evaluate the expression safely\n",
    "        result = eval(prob)\n",
    "        if result == int(result):\n",
    "            return int(result)  \n",
    "        else: \n",
    "            result  # Return integer if possible\n",
    "    except (SyntaxError, ZeroDivisionError):\n",
    "        return \"Invalid operation\"\n",
    "\n",
    "problems = [\n",
    "    \"What is 5?\",\n",
    "    \"What is 5 plus 13?\",\n",
    "    \"What is 7 minus 5?\",\n",
    "    \"What is 6 multiplied by 4?\",\n",
    "    \"What is 25 divided by 5?\",\n",
    "    \"What is 5 plus 13 plus 6?\",\n",
    "    \"What is 3 plus 2 multiplied by 3?\"\n",
    "]\n",
    "\n",
    "for problem in problems:\n",
    "    answer = operation(problem)\n",
    "    print(f\"{problem} -> {answer}\")\n",
    " "
   ]
  },
  {
   "cell_type": "markdown",
   "metadata": {
    "id": "hYxixq3Paw83"
   },
   "source": [
    "**Problem 4**\n",
    "\n",
    "For this exercise, you need to know two things about them:\n",
    "\n",
    "Each resistor has a resistance value.\n",
    "Resistors are small - so small in fact that if you printed the resistance value on them, it would be hard to read.\n",
    "To get around this problem, manufacturers print color-coded bands onto the resistors to denote their resistance values. Each band has a position and a numeric value.\n",
    "\n",
    "The first 2 bands of a resistor have a simple encoding scheme: each color maps to a single number. For example, if they printed a brown band (value 1) followed by a green band (value 5), it would translate to the number 15.\n",
    "\n",
    "In this exercise you are going to create a helpful program so that you don't have to remember the values of the bands. The program will take color names as input and output a two digit number, even if the input is more than two colors!\n",
    "\n",
    "The band colors are encoded as follows:\n",
    "\n",
    "```\n",
    "1.   Black: 0\n",
    "2.   Brown: 1\n",
    "3.   Red: 2\n",
    "4.   Orange: 3\n",
    "5.   Yellow: 4\n",
    "6.   Green: 5\n",
    "7.   Blue: 6\n",
    "8.   Violet: 7\n",
    "9.   Grey: 8\n",
    "10.  White: 9\n",
    "```\n",
    "\n",
    "*From the example above:*\n",
    "\n",
    "brown-green should return 15\n",
    "\n",
    "brown-green-violet should return 15 too, ignoring the third color"
   ]
  },
  {
   "cell_type": "code",
   "execution_count": 2,
   "metadata": {
    "id": "k86PCFlJbLQG"
   },
   "outputs": [
    {
     "name": "stdout",
     "output_type": "stream",
     "text": [
      "15\n"
     ]
    }
   ],
   "source": [
    "resistor_colors = {\n",
    "    \"black\": 0,\n",
    "    \"brown\": 1,\n",
    "    \"red\": 2,\n",
    "    \"orange\": 3,\n",
    "    \"yellow\": 4,\n",
    "    \"green\": 5,\n",
    "    \"blue\": 6,\n",
    "    \"violet\": 7,\n",
    "    \"grey\": 8,\n",
    "    \"white\": 9\n",
    "}\n",
    "\n",
    "def resistor(colors):\n",
    "  colors = colors.split(\"-\")\n",
    "  colors = colors[:2]\n",
    "  result = \"\"\n",
    "  for color in colors:\n",
    "    if color in resistor_colors:\n",
    "      result = result + str(resistor_colors[color])\n",
    "  print(result)\n",
    "\n",
    "resistor(\"brown-green-violet\")\n"
   ]
  },
  {
   "cell_type": "markdown",
   "metadata": {
    "id": "Lobv2LGbbX1D"
   },
   "source": [
    "**Problem 5**\n",
    "\n",
    "*Your task is to Validate Credit Card Number*\n",
    "\n",
    "Given a number determine whether or not it is valid per the Luhn formula.\n",
    "\n",
    "The Luhn algorithm is a simple checksum formula used to validate a variety of identification numbers, such as credit card numbers and Canadian Social Insurance Numbers.\n",
    "\n",
    "The task is to check if a given string is valid\n",
    "\n",
    "Valid credit card number\n",
    "\n",
    "4539 3195 0343 6467\n",
    "\n",
    "The first step of the Luhn algorithm is to double every second digit, starting from the right. We will be doubling\n",
    "\n",
    "4_3_ 3_9_ 0_4_ 6_6_\n",
    "\n",
    "If doubling the number results in a number greater than 9 then subtract 9 from the product. The results of our doubling:\n",
    "\n",
    "8569 6195 0383 3437\n",
    "\n",
    "Then sum all of the digits:\n",
    "\n",
    "8+5+6+9+6+1+9+5+0+3+8+3+3+4+3+7 = 80\n",
    "\n",
    "If the sum is evenly divisible by 10, then the number is valid. This number is valid!"
   ]
  },
  {
   "cell_type": "code",
   "execution_count": 34,
   "metadata": {},
   "outputs": [
    {
     "name": "stdout",
     "output_type": "stream",
     "text": [
      "[-2, -4, -6, -8, -10, -12, -14, -16]\n"
     ]
    }
   ],
   "source": [
    "print(list(range(-2,-(16+1),-2)))"
   ]
  },
  {
   "cell_type": "code",
   "execution_count": 45,
   "metadata": {
    "id": "IDuW6CSCy5aE"
   },
   "outputs": [
    {
     "name": "stdout",
     "output_type": "stream",
     "text": [
      "[8, 5, 6, 9, 6, 1, 9, 5, 0, 3, 8, 3, 3, 4, 3, 7]\n",
      "number Valid\n"
     ]
    }
   ],
   "source": [
    "gn = \"4539 3195 0343 6467\"\n",
    "gnum = gn.replace(\" \", \"\")\n",
    "gnum =  [int(i) for i in gnum]\n",
    "double =[]\n",
    "result = 0\n",
    "for i in gnum[-2:-(len(gnum)+1):-2]: \n",
    "    if i*2>9:\n",
    "        result= (i*2)-9\n",
    "    else:\n",
    "        result = i*2\n",
    "    double.append(result) \n",
    "i=0\n",
    "for j in range(-2,-(len(gnum)+1),-2): #[-2,-4,-6,-8,-10,-12,-14,-16]\n",
    "    \n",
    "    gnum[j] = double[i]\n",
    "    i += 1   \n",
    "else:\n",
    "  print(gnum)\n",
    "\n",
    "#kalau nak print out number , use list comrehension\n",
    "if sum(gnum)%10==0:\n",
    "    print(\"number Valid\")\n",
    "else:\n",
    "    print(\"Not valid\")"
   ]
  },
  {
   "cell_type": "markdown",
   "metadata": {
    "id": "bHDdXXcjFmCe"
   },
   "source": [
    "**Problem 6**\n",
    "\n",
    "Write a Python class that has two methods: getString and printString , The getString accept a string from the user and printString prints the string in upper case."
   ]
  },
  {
   "cell_type": "code",
   "execution_count": 5,
   "metadata": {
    "colab": {
     "base_uri": "https://localhost:8080/"
    },
    "id": "m63ggCk_FyBB",
    "outputId": "aba4bcd6-46fc-4eb8-8f8c-803c995fa41b"
   },
   "outputs": [
    {
     "name": "stdout",
     "output_type": "stream",
     "text": [
      "Enter a string: alhamdulillah\n",
      "ALHAMDULILLAH\n"
     ]
    }
   ],
   "source": [
    "class Alphabet:\n",
    "  def __init__(self, string):\n",
    "    self.string = string\n",
    "\n",
    "  def getString(self):\n",
    "    self.string = input(\"Enter a string: \")\n",
    "    self.printString()\n",
    "\n",
    "  def printString(self):\n",
    "    print(self.string.upper())\n",
    "\n",
    "text = Alphabet(\"\")\n",
    "text.getString()"
   ]
  },
  {
   "cell_type": "markdown",
   "metadata": {
    "id": "5-6cZZTw55Lt"
   },
   "source": [
    "**Problem 7**\n",
    "\n",
    "Create a class Temperature that has a property celsius to get and set the temperature in Celsius and another property fahrenheit to get and set the temperature in Fahrenheit. The fahrenheit property should convert the temperature to and from Celsius."
   ]
  },
  {
   "cell_type": "code",
   "execution_count": 7,
   "metadata": {},
   "outputs": [
    {
     "name": "stdout",
     "output_type": "stream",
     "text": [
      "The temperature in Celsius is: 37°C\n",
      "The temperature in Fahrenheit is: 98.6°F\n",
      "The temperature in Celsius is: 37.0°C\n",
      "The temperature in Fahrenheit is: 98.6°F\n"
     ]
    }
   ],
   "source": [
    "class Temperature:\n",
    "    def __init__(self, celsius=0):\n",
    "        self._celsius = celsius  # Using a private attribute for internal storage\n",
    "\n",
    "    @property\n",
    "    def celsius(self):\n",
    "        return self._celsius\n",
    "\n",
    "    @celsius.setter\n",
    "    def celsius(self, value):\n",
    "        self._celsius = value\n",
    "\n",
    "    @property\n",
    "    def fahrenheit(self):\n",
    "        return (self._celsius * 9 / 5) + 32\n",
    "\n",
    "    @fahrenheit.setter\n",
    "    def fahrenheit(self, value):\n",
    "        self._celsius = (value - 32) * 5 / 9\n",
    "\n",
    "# Example usage:\n",
    "temp = Temperature(37)  # Initialize with Celsius\n",
    "print(f\"The temperature in Celsius is: {temp.celsius}°C\")\n",
    "print(f\"The temperature in Fahrenheit is: {temp.fahrenheit}°F\")\n",
    "\n",
    "# Setting Fahrenheit\n",
    "temp.fahrenheit = 98.6  # Change using Fahrenheit\n",
    "print(f\"The temperature in Celsius is: {temp.celsius}°C\")\n",
    "print(f\"The temperature in Fahrenheit is: {temp.fahrenheit}°F\")\n"
   ]
  },
  {
   "cell_type": "code",
   "execution_count": 62,
   "metadata": {
    "id": "pOIhPwFS6CC5"
   },
   "outputs": [
    {
     "name": "stdout",
     "output_type": "stream",
     "text": [
      "The Temperature is 39 Farenheit\n",
      "None\n"
     ]
    },
    {
     "ename": "TypeError",
     "evalue": "Temperature.Celcius() takes 1 positional argument but 2 were given",
     "output_type": "error",
     "traceback": [
      "\u001b[1;31m---------------------------------------------------------------------------\u001b[0m",
      "\u001b[1;31mTypeError\u001b[0m                                 Traceback (most recent call last)",
      "Cell \u001b[1;32mIn[62], line 18\u001b[0m\n\u001b[0;32m     16\u001b[0m temp \u001b[38;5;241m=\u001b[39m Temperature(\u001b[38;5;241m37\u001b[39m)\n\u001b[0;32m     17\u001b[0m \u001b[38;5;28mprint\u001b[39m(temp\u001b[38;5;241m.\u001b[39mFarenheit(\u001b[38;5;241m39\u001b[39m))\n\u001b[1;32m---> 18\u001b[0m \u001b[38;5;28mprint\u001b[39m(\u001b[43mtemp\u001b[49m\u001b[38;5;241;43m.\u001b[39;49m\u001b[43mCelcius\u001b[49m\u001b[43m(\u001b[49m\u001b[38;5;241;43m37\u001b[39;49m\u001b[43m)\u001b[49m)\n\u001b[0;32m     19\u001b[0m \u001b[38;5;28mprint\u001b[39m(temp\u001b[38;5;241m.\u001b[39mFarenheittoC(\u001b[38;5;241m37\u001b[39m))\n",
      "\u001b[1;31mTypeError\u001b[0m: Temperature.Celcius() takes 1 positional argument but 2 were given"
     ]
    }
   ],
   "source": [
    "class Temperature:\n",
    "  def __init__(self, celsius):\n",
    "    self.celsius = celsius \n",
    "\n",
    "  def Farenheit(self, farenheit): \n",
    "    fahrenheit = (self.celsius * 9/5) + 32\n",
    "    print(f\"The Temperature is {farenheit} Farenheit\")\n",
    "\n",
    "  def FarenheittoC(self, fahrenheit):\n",
    "    self.celsius = (fahrenheit - 32) * 5/9\n",
    "    print(f\"The Temperature is {self.celsius} Celcius\")\n",
    "\n",
    "  def Celcius(self):\n",
    "    print(f\"The Temperature is {self.celsius} Celcius\")\n",
    "\n",
    "temp = Temperature(37)\n",
    "print(temp.Farenheit(39))\n",
    "print(temp.Celcius(37))\n",
    "print(temp.FarenheittoC(37))"
   ]
  },
  {
   "cell_type": "markdown",
   "metadata": {
    "id": "GeVVh-5p5gTT"
   },
   "source": [
    "**Problem 8**\n",
    "\n",
    "Create a class *Book* with attributes title, author, and pages. Ensure that the class constructor requires these attributes. Create multiple instances of Book and display their details.\n",
    "\n",
    "Add a method price that returns the price of the book using a formula pages * 10. Add another method that prints all the details of the book. Create an instance of the Book class and display the details."
   ]
  },
  {
   "cell_type": "code",
   "execution_count": 51,
   "metadata": {
    "id": "I3PXkT8j5nCt"
   },
   "outputs": [
    {
     "ename": "SyntaxError",
     "evalue": "invalid syntax (1067989256.py, line 28)",
     "output_type": "error",
     "traceback": [
      "\u001b[1;36m  Cell \u001b[1;32mIn[51], line 28\u001b[1;36m\u001b[0m\n\u001b[1;33m    Add another method that prints all the details of the book ?\u001b[0m\n\u001b[1;37m        ^\u001b[0m\n\u001b[1;31mSyntaxError\u001b[0m\u001b[1;31m:\u001b[0m invalid syntax\n"
     ]
    }
   ],
   "source": [
    "class Book:\n",
    "    def __init__(self, title, author, pages) :\n",
    "        self.title = title\n",
    "        self.author = author\n",
    "        self.pages = pages\n",
    "        self.price()\n",
    "\n",
    "\n",
    "    def details(self):\n",
    "        print(\"Book Title:\", self.title)\n",
    "        print(\"Author:\", self.author)\n",
    "        print(\"Pages:\", self.pages)\n",
    "        print(\"Total Price: RM\",Book.pricebook) \n",
    "\n",
    "    \n",
    "    def price(self):\n",
    "        Book.pricebook = self.pages * 10 \n",
    "    \n",
    "    def doprint(self):\n",
    "        return self.details()\n",
    "     \n",
    "nora = Book(\"How I Met Me\", \"Nora\", 55)\n",
    "nora.details() \n",
    "\n",
    "peter = Book(\"Do We Know\", \"Peter Pan\", 43)\n",
    "peter.details()  \n",
    "\n",
    "Add another method that prints all the details of the book ?"
   ]
  },
  {
   "cell_type": "markdown",
   "metadata": {
    "id": "OwNVg-Wf_slB"
   },
   "source": [
    "**Problem 9**\n",
    "\n",
    "Write a Python class Employee with properties id, name, salary, and department and methods like \\__init__ calculateSalary, assignDepartment and \\__str__.\n",
    "\n",
    "Sample Employee Data:\n",
    "\n",
    "```\n",
    "\"E7876\", \"ADAMS\", 50000, \"ACCOUNTING\"\n",
    "\"E7499\", \"JONES\", 45000, \"RESEARCH\"\n",
    "\"E7900\", \"MARTIN\", 50000, \"SALES\"\n",
    "\"E7698\", \"SMITH\", 55000, \"OPERATIONS\"\n",
    "```\n",
    "Use 'assignDepartment' method to change the department of an employee.\n",
    "\n",
    "Use '\\__str__' method to print the details of an employee.\n",
    "\n",
    "Use 'calculateSalary' method takes two arguments: salary and hours_worked, which is the number of hours worked by the employee. If the number of hours worked is more than 50, the method computes overtime and adds it to the salary.\n",
    "\n",
    "Overtime is calculated as following formula:\n",
    "overtime = hours_worked - 50\n",
    "Overtime amount = (overtime * (salary / 50))"
   ]
  },
  {
   "cell_type": "code",
   "execution_count": 21,
   "metadata": {},
   "outputs": [
    {
     "name": "stdout",
     "output_type": "stream",
     "text": [
      "Employee id:E7876, Name:ADAMS, 50000, ACCOUNTING\n",
      "New salary for ADAMS after 60 hours of work: 60000.0\n",
      "New department assign for ADAMS is HR\n",
      "==================================================\n",
      "Employee id:E7499, Name:JONES, 45000, RESEARCH\n",
      "New salary for JONES after 55 hours of work: 55000.0\n",
      "New department assign for JONES is RESEARCH\n",
      "==================================================\n",
      "Employee id:E7900, Name:MARTIN, 50000, SALES\n",
      "==================================================\n",
      "Employee id:E7698, Name:SMITH, 55000, OPERATIONS\n"
     ]
    }
   ],
   "source": [
    "class Employee:\n",
    "    def __init__(self, id, name, salary, department):\n",
    "        self.id = id\n",
    "        self.name = name\n",
    "        self.salary = salary\n",
    "        self.department = department\n",
    "\n",
    "    #__str__() method returns a human-readable, or informal,\n",
    "    # else, it will call the __repr__ method. The __repr__ method & typecast str()\n",
    "    # returns a string that describes the pointer of the object by default\n",
    "    def __str__(self):\n",
    "        return f\"Employee id:{self.id}, Name:{self.name}, {self.salary}, {self.department}\"\n",
    "\n",
    "    def calculateSalary(self, hours_work):\n",
    "        if hours_work > 50:\n",
    "            overtime = hours_work - 50\n",
    "            overtime_amount = (overtime*(self.salary/50))\n",
    "            total_salary = self.salary + overtime_amount\n",
    "            return total_salary\n",
    "        else: \n",
    "            return self.salary\n",
    "\n",
    "        \n",
    "    def assingDepartment(self, new_department): \n",
    "        self.department = new_department\n",
    "\n",
    "emp1 = Employee(\"E7876\", \"ADAMS\", 50000, \"ACCOUNTING\")\n",
    "print(emp1) \n",
    "hours_work = 60\n",
    "newsalary = emp1.calculateSalary(hours_work)\n",
    "print(f\"New salary for {emp1.name} after {hours_work} hours of work: {newsalary}\")\n",
    "emp1.assingDepartment(\"HR\")\n",
    "print(f\"New department assign for {emp1.name} is {emp1.department}\")\n",
    "\n",
    "print(\"=\"*50)\n",
    "emp2 = Employee(\"E7499\", \"JONES\", 45000, \"RESEARCH\")\n",
    "print(emp2)\n",
    "hours_work = 55\n",
    "newsalary = emp1.calculateSalary(hours_work)\n",
    "print(f\"New salary for {emp2.name} after {hours_work} hours of work: {newsalary}\")\n",
    "emp1.assingDepartment(\"Marketing\")\n",
    "print(f\"New department assign for {emp2.name} is {emp2.department}\")\n",
    "\n",
    "print(\"=\"*50)\n",
    "emp3 = Employee(\"E7900\", \"MARTIN\", 50000, \"SALES\")\n",
    "print(emp3)\n",
    "\n",
    "print(\"=\"*50)\n",
    "emp4 = Employee(\"E7698\", \"SMITH\", 55000, \"OPERATIONS\")  \n",
    "print(emp4)  \n",
    "\n"
   ]
  },
  {
   "cell_type": "code",
   "execution_count": null,
   "metadata": {},
   "outputs": [],
   "source": [
    "class Employee:\n",
    "    def __init__(self, id, name, salary, department):\n",
    "        self.id = id\n",
    "        self.name = name\n",
    "        self.salary = salary\n",
    "        self.department = department\n",
    "\n",
    "    def __str__(self):\n",
    "        # Return a human-readable string representation of the Employee object\n",
    "        return f\"Employee ID: {self.id}, Name: {self.name}, Salary: {self.salary}, Department: {self.department}\"\n",
    "\n",
    "    def calculateSalary(self, hours_worked):\n",
    "        # Calculate the salary including overtime if hours worked > 50\n",
    "        if hours_worked > 50:\n",
    "            overtime = hours_worked - 50\n",
    "            overtime_amount = overtime * (self.salary / 50)\n",
    "            total_salary = self.salary + overtime_amount\n",
    "            return total_salary\n",
    "        else:\n",
    "            return self.salary\n",
    "\n",
    "    def assignDepartment(self, new_department):\n",
    "        # Assign a new department to the employee\n",
    "        self.department = new_department\n",
    "\n",
    "\n",
    "# Example Usage:\n",
    "emp1 = Employee(\"E7876\", \"ADAMS\", 50000, \"ACCOUNTING\")\n",
    "emp2 = Employee(\"E7499\", \"JONES\", 45000, \"RESEARCH\")\n",
    "emp3 = Employee(\"E7900\", \"MARTIN\", 50000, \"SALES\")\n",
    "emp4 = Employee(\"E7698\", \"SMITH\", 55000, \"OPERATIONS\")\n",
    "\n",
    "# Display employee details\n",
    "print(emp1)\n",
    "print(emp2)\n",
    "print(emp3)\n",
    "print(emp4)\n",
    "\n",
    "# Calculate salary with overtime for emp1\n",
    "hours_worked = 55  # Example hours worked\n",
    "new_salary = emp1.calculateSalary(hours_worked)\n",
    "print(f\"New salary for {emp1.name} after {hours_worked} hours of work: {new_salary}\")\n",
    "\n",
    "# Change department for emp4\n",
    "emp4.assignDepartment(\"HR\")\n",
    "print(f\"Updated department for {emp4.name}: {emp4.department}\")\n"
   ]
  },
  {
   "cell_type": "markdown",
   "metadata": {
    "id": "Q2R8aBS9BAlQ"
   },
   "source": [
    "**Problem 10**\n",
    "\n",
    "Write a Python class Inventory with attributes like id, productName, availableQuantity and price. Add methods like addItem, updateItem, and checkItem_details.\n",
    "\n",
    "Use a dictionary to store the item details, where the key is the id and the value is a dictionary containing the productName, availableQuantity and price.\n",
    "\n",
    "Sample Data:\n",
    "\n",
    "\n",
    "```\n",
    "{\n",
    "  \"97410\": {\n",
    "    \"name\": \"Television\",\n",
    "    \"availableQuantity\": 20,\n",
    "    \"price\": 1455.99\n",
    "  },\n",
    "  \"97411\": {\n",
    "    \"name\": \"Radio\",\n",
    "    \"availableQuantity\": 32,\n",
    "    \"price\": 654.25\n",
    "  }\n",
    "}\n",
    "```\n",
    "\n",
    "\n"
   ]
  },
  {
   "cell_type": "code",
   "execution_count": 54,
   "metadata": {
    "id": "2AtN1IClCEUS"
   },
   "outputs": [
    {
     "name": "stdout",
     "output_type": "stream",
     "text": [
      "Product not exist\n",
      "9711 : {'name': 'Radio', 'availableQuantity': 32, 'price': 654.25}\n",
      "97410 : {'name': 'Television', 'availableQuantity': 20, 'price': 1455.99}\n"
     ]
    }
   ],
   "source": [
    "class Inventory:\n",
    "  \n",
    "    def __init__(self, id, productName, availableQuantity, price):\n",
    "        self.id = id\n",
    "        self.productName = productName\n",
    "        self.availableQuantity = availableQuantity\n",
    "        self.price = price\n",
    "        self.details={}\n",
    "        self.details[self.id]={\n",
    "           \"name\" : self.productName,\n",
    "           \"availableQuantity\" : self.availableQuantity,\n",
    "           \"price\" : self.price\n",
    "        }\n",
    "\n",
    "       \n",
    "    def addItem(self,id,productName,availableQuantity,price):\n",
    "      if id not in self.details.keys():\n",
    "        self.details[id]={\n",
    "          \"name\" : productName,\n",
    "          \"availableQuantity\" : availableQuantity,\n",
    "          \"price\" : price\n",
    "        }\n",
    "      else:\n",
    "         print(\"Product already exist\")\n",
    "\n",
    "    def updateItem(self,id,productName,availableQuantity,price):\n",
    "      if id in self.details.keys():\n",
    "        self.details[id]={\n",
    "          \"name\" : productName,\n",
    "          \"availableQuantity\" : availableQuantity,\n",
    "          \"price\" : price\n",
    "        }\n",
    "      else:\n",
    "         print(\"Product not exist\")\n",
    "\n",
    "    def checkItem_details(self):\n",
    "      for k,v in self.details.items():\n",
    "         print(f\"{k} : {v}\")\n",
    "\n",
    "details = Inventory(\"9711\", \"Radio\", 32, 654.25) \n",
    "details.updateItem(\"1234\", \"TV\", 8, 1455.99) \n",
    "details.addItem(\"97410\", \"Television\", 20, 1455.99)\n",
    "details.checkItem_details()"
   ]
  },
  {
   "cell_type": "markdown",
   "metadata": {
    "id": "v07XqqlWCeF3"
   },
   "source": [
    "**Problem 11**\n",
    "\n",
    "Write a  Python class BankAccount with attributes like accountNumber, openingBalance, currentBalance dateOfOpening and customerName. Add methods like deposit, withdraw, and checkBalance."
   ]
  },
  {
   "cell_type": "code",
   "execution_count": 28,
   "metadata": {},
   "outputs": [
    {
     "name": "stdout",
     "output_type": "stream",
     "text": [
      "Balance Amount After Deposit:  4500.59\n",
      "Balance Amount After Withdraw:  4000.59\n"
     ]
    }
   ],
   "source": [
    "class BankAccount:\n",
    "  def __init__(self, accountNumber, openingBalance, currentBalance, dateOfOpening, customerName):\n",
    "    self.accountNumber = accountNumber\n",
    "    self.openingBalance = openingBalance\n",
    "    self.currentBalance = currentBalance\n",
    "    self.dateOfOpening = dateOfOpening\n",
    "    self.customerName = customerName\n",
    "\n",
    "  def deposit(self, amount):\n",
    "    if amount > 0:\n",
    "      self.currentBalance = self.currentBalance+amount\n",
    "      print(\"Balance Amount After Deposit: \", self.currentBalance)\n",
    "    else:\n",
    "      print(\"Invalid Amount\")\n",
    "\n",
    "  def withdraw(self, amount):\n",
    "    self.currentBalance = self.currentBalance-amount\n",
    "    if self.currentBalance < 10:\n",
    "            self.currentBalance = self.currentBalance+amount\n",
    "            raise \"Exceeds Minimum Balance\"\n",
    "    print(\"Balance Amount After Withdraw: \", self.currentBalance)\n",
    "\n",
    "  def checkBalance(self):\n",
    "            return self.currentBalance\n",
    "\n",
    "details = BankAccount(\n",
    "    accountNumber=\"9870-5678-8890\",\n",
    "    openingBalance=3500.59,\n",
    "    currentBalance = 3500.59,\n",
    "    dateOfOpening=\"13-01-2009\",\n",
    "    customerName=\"Malvin Doe\"\n",
    ")\n",
    "\n",
    "details.checkBalance()\n",
    "details.deposit(1000)\n",
    "details.withdraw(500)\n"
   ]
  },
  {
   "cell_type": "code",
   "execution_count": 14,
   "metadata": {
    "id": "QumPFVaFEm2N"
   },
   "outputs": [
    {
     "name": "stdout",
     "output_type": "stream",
     "text": [
      "Current Balance: 3500.59\n",
      "Deposited 500. Current Balance: 4000.59\n",
      "Withdrew 1000. Current Balance: 3000.59\n",
      "Insufficient funds. Minimum balance of 10 must be maintained.\n"
     ]
    }
   ],
   "source": [
    "class BankAccount:\n",
    "    def __init__(self, accountNumber, openingBalance, dateOfOpening, customerName):\n",
    "        self.accountNumber = accountNumber\n",
    "        self.openingBalance = openingBalance\n",
    "        self.currentBalance = openingBalance\n",
    "        self.dateOfOpening = dateOfOpening\n",
    "        self.customerName = customerName\n",
    "\n",
    "    def deposit(self, amount):\n",
    "        if amount > 0:\n",
    "            self.currentBalance += amount\n",
    "            print(f\"Deposited {amount}. Current Balance: {self.currentBalance}\")\n",
    "        else:\n",
    "            print(\"Deposit amount must be greater than zero.\")\n",
    "\n",
    "    def withdraw(self, amount):\n",
    "        if amount > 0:\n",
    "            if self.currentBalance - amount >= 10:  # Maintain minimum balance of 10\n",
    "                self.currentBalance -= amount\n",
    "                print(f\"Withdrew {amount}. Current Balance: {self.currentBalance}\")\n",
    "            else:\n",
    "                print(\"Insufficient funds. Minimum balance of 10 must be maintained.\")\n",
    "        else:\n",
    "            print(\"Withdrawal amount must be greater than zero.\")\n",
    "\n",
    "    def checkBalance(self):\n",
    "        print(f\"Current Balance: {self.currentBalance}\")\n",
    "        return self.currentBalance\n",
    "\n",
    "\n",
    "# Example Usage:\n",
    "# Create a bank account instance\n",
    "account = BankAccount(\n",
    "    accountNumber=\"9870-5678-8890\",\n",
    "    openingBalance=3500.59,\n",
    "    dateOfOpening=\"2024-01-01\",\n",
    "    customerName=\"John Doe\"\n",
    ")\n",
    "\n",
    "# Check balance\n",
    "account.checkBalance()\n",
    "\n",
    "# Deposit money\n",
    "account.deposit(500)\n",
    "\n",
    "# Withdraw money\n",
    "account.withdraw(1000)\n",
    "\n",
    "# Attempt to withdraw money below the minimum balance\n",
    "account.withdraw(4000)\n"
   ]
  },
  {
   "cell_type": "markdown",
   "metadata": {
    "id": "KrpUr80GGgI-"
   },
   "source": [
    "**Problem 12**\n",
    "\n",
    "Write a Python class to check the validity of a string of parentheses,\n",
    "\n",
    "```\n",
    "'(', ')', '{', '}', '[' and '].\n",
    "```\n",
    "\n",
    "These brackets must be closed in the correct order,\n",
    "for example\n",
    "\n",
    "```\n",
    "\"()\" and \"()[]{}\" are valid\n",
    "\"[)\", \"({[)]\" and \"{{{\" are invalid.\n",
    "```"
   ]
  },
  {
   "cell_type": "code",
   "execution_count": 74,
   "metadata": {
    "id": "5NaskGz8GmNJ"
   },
   "outputs": [
    {
     "name": "stdout",
     "output_type": "stream",
     "text": [
      "() are valid\n"
     ]
    }
   ],
   "source": [
    "class Bracket:\n",
    "\n",
    "    def __init__(self, value) :\n",
    "        self.value = value\n",
    "        self.parentheses = {\n",
    "            \"(\": \")\",\n",
    "            \"{\": \"}\",\n",
    "            \"[\": \"]\"\n",
    "        }\n",
    "\n",
    "    def toCheck(self):\n",
    "        isValid = True\n",
    "        if len(self.value) > 1:\n",
    "            for i in range(len(self.value)-1): \n",
    "                if self.value[i] in self.parentheses.keys():\n",
    "                    if self.value[i+1] != self.parentheses[self.value[i]]:\n",
    "                        isValid = False\n",
    "                        break    \n",
    "        else:\n",
    "            isValid = False            \n",
    "                \n",
    "        return isValid\n",
    "\n",
    "\n",
    "    def toDisplay(self):\n",
    "        if self.toCheck():\n",
    "            print(f\"{self.value} are valid\")\n",
    "        else:\n",
    "            print(f\"{self.value} are Invalid\")\n",
    "\n",
    "a = Bracket(\"()\")\n",
    "a.toCheck\n",
    "a.toDisplay()\n",
    "        \n"
   ]
  },
  {
   "cell_type": "markdown",
   "metadata": {
    "id": "jwjRL57P2kGe"
   },
   "source": [
    "**Problem 13**\n",
    "\n",
    "Create a base class Shape with a method area that returns 0. Then, create two subclasses Circle and Square, each with their own implementation of the area method. The Circle class should take a radius, and the Square class should take a side length. Demonstrate polymorphism by creating a list of shapes and iterating through them to print their areas"
   ]
  },
  {
   "cell_type": "code",
   "execution_count": null,
   "metadata": {
    "id": "AtycZXMw2pOa"
   },
   "outputs": [],
   "source": [
    "class Shape:\n",
    "\n",
    "    def __init__(self, area):\n",
    "        self.area = area\n",
    "        self.radius = self.doRadius()\n",
    "        self.lenght = self.doLenght()\n",
    "\n",
    "    def doArea(self):\n",
    "        return None\n",
    "    \n",
    "\n",
    "class Circle(Shape):\n",
    "\n",
    "    def __init__(self, area) :\n",
    "        super().__init__(area)\n",
    "\n",
    "    def doRadius(self, radius):\n",
    "        print(\"The radius is:\", self.radius**2)\n",
    "\n",
    "\n",
    "class Square(Shape):\n",
    "\n",
    "    def __init__(self, area) :\n",
    "        super().__init__(area) \n",
    "\n",
    "    def doLenght(self, lenght):\n",
    "        print(f\"The lenght of the shape is {self.lenght}**@\")\n",
    "\n",
    "class Area(Circle, Square):\n",
    "    \n",
    "    def __init__(self, area) :\n",
    "        super().__init__(area) \n",
    "\n",
    "\n",
    "    #tengok nurul"
   ]
  },
  {
   "cell_type": "code",
   "execution_count": null,
   "metadata": {},
   "outputs": [
    {
     "ename": "AttributeError",
     "evalue": "'Square' object has no attribute 'lenght'",
     "output_type": "error",
     "traceback": [
      "\u001b[1;31m---------------------------------------------------------------------------\u001b[0m",
      "\u001b[1;31mAttributeError\u001b[0m                            Traceback (most recent call last)",
      "Cell \u001b[1;32mIn[14], line 30\u001b[0m\n\u001b[0;32m     28\u001b[0m circle \u001b[38;5;241m=\u001b[39m Circle(\u001b[38;5;241m5\u001b[39m)\n\u001b[0;32m     29\u001b[0m square \u001b[38;5;241m=\u001b[39m Square(\u001b[38;5;241m4\u001b[39m)\n\u001b[1;32m---> 30\u001b[0m \u001b[43msquare\u001b[49m\u001b[38;5;241;43m.\u001b[39;49m\u001b[43mdoArea\u001b[49m\u001b[43m(\u001b[49m\u001b[38;5;241;43m4\u001b[39;49m\u001b[43m)\u001b[49m\n",
      "Cell \u001b[1;32mIn[14], line 26\u001b[0m, in \u001b[0;36mSquare.doArea\u001b[1;34m(self, lenght)\u001b[0m\n\u001b[0;32m     25\u001b[0m \u001b[38;5;28;01mdef\u001b[39;00m \u001b[38;5;21mdoArea\u001b[39m(\u001b[38;5;28mself\u001b[39m, lenght):\n\u001b[1;32m---> 26\u001b[0m     \u001b[38;5;28;01mreturn\u001b[39;00m \u001b[38;5;28;43mself\u001b[39;49m\u001b[38;5;241;43m.\u001b[39;49m\u001b[43mlenght\u001b[49m\u001b[38;5;241m*\u001b[39m\u001b[38;5;241m*\u001b[39m\u001b[38;5;241m2\u001b[39m\n",
      "\u001b[1;31mAttributeError\u001b[0m: 'Square' object has no attribute 'lenght'"
     ]
    }
   ],
   "source": [
    "class Shape:\n",
    "\n",
    "    def __init__(self, area):\n",
    "        self.area = area \n",
    "\n",
    "\n",
    "    def doArea(self):\n",
    "        return 0    \n",
    "\n",
    "class Circle(Shape):\n",
    "\n",
    "    def __init__(self, area) :\n",
    "        super().__init__(area)\n",
    "\n",
    "    def doArea(self):\n",
    "        pi = 3.14\n",
    "        return pi*self.radius**2\n",
    "\n",
    "\n",
    "class Square(Shape):\n",
    "\n",
    "    def __init__(self, area) :\n",
    "        super().__init__(area) \n",
    "\n",
    "    def doArea(self, lenght):\n",
    "        return self.lenght**2\n",
    "\n",
    "circle = Circle(5)\n",
    "square = Square(4)\n",
    "shape = Shape() "
   ]
  },
  {
   "cell_type": "markdown",
   "metadata": {
    "id": "8sLaFxLd2qHX"
   },
   "source": [
    "**Problem 14**\n",
    "\n",
    "Create a class ComplexNumber that represents a complex number with attributes real and imaginary. Overload the + operator to add two complex numbers and the __str__ method to display the complex number in the form \"a + bi\". Test the addition of two complex numbers."
   ]
  },
  {
   "cell_type": "code",
   "execution_count": 58,
   "metadata": {
    "id": "DpiAKuz02zZ_"
   },
   "outputs": [
    {
     "name": "stdout",
     "output_type": "stream",
     "text": [
      "5 + -2i\n"
     ]
    }
   ],
   "source": [
    "class ComplexNumber:\n",
    "\n",
    "    def __init__(self, real, imaginary):\n",
    "        self.real = real\n",
    "        self.imaginary = imaginary\n",
    "\n",
    "    def __add__(self,other):\n",
    "        result_real = self.real + other.real\n",
    "        result_imaginary = self.imaginary + other.imaginary\n",
    "        return ComplexNumber(result_real,result_imaginary)\n",
    "    \n",
    "    def __str__ (self):\n",
    "        return f\"{self.real} + {self.imaginary}i\"\n",
    "    \n",
    "a = ComplexNumber(3, -5)\n",
    "b = ComplexNumber(2, 3)\n",
    "c = a+b\n",
    "print(c)"
   ]
  },
  {
   "cell_type": "markdown",
   "metadata": {
    "id": "wiwfjv6f27og"
   },
   "source": [
    "**Problem 15**\n",
    "\n",
    "Create a class Engine with an attribute horsepower. Then, create a class Car that has an attribute engine of type Engine. Demonstrate aggregation by creating a Car with a Engine object, and print the car's horsepower. Demonstrate your understanding of Aggregation, Composition and has a relationship in this problem by adding all necessary properties and methods."
   ]
  },
  {
   "cell_type": "code",
   "execution_count": 16,
   "metadata": {
    "id": "JTV5h_Jx3YUY"
   },
   "outputs": [
    {
     "name": "stdout",
     "output_type": "stream",
     "text": [
      "Engine type: ('100hp', 'Diesel')\n"
     ]
    }
   ],
   "source": [
    "class Engine:\n",
    "\n",
    "    def __init__(self, *horsepower):\n",
    "        self.horsepower = horsepower\n",
    "\n",
    "    def type(self):\n",
    "        return self.horsepower\n",
    "    \n",
    "    def __str__(self):\n",
    "        return str(self.horsepower)\n",
    "\n",
    "class Car(Engine):\n",
    "    def __init__(self, engines, *horsepower):\n",
    "        super().__init__(*horsepower)\n",
    "        self.engines = engines\n",
    "\n",
    "    def type(self):\n",
    "        super().type()\n",
    "        print(f\"Engine type: {self.engines}\")\n",
    "\n",
    "engine = Engine(\"100hp\", \"Diesel\")\n",
    "mycar = Car(engine) \n",
    "\n",
    "car = Car(\"Diesel\", engine)\n",
    "mycar.type()\n"
   ]
  },
  {
   "cell_type": "code",
   "execution_count": 15,
   "metadata": {},
   "outputs": [
    {
     "name": "stdout",
     "output_type": "stream",
     "text": [
      "Car model: Sedan\n",
      "Car's engine: Engine with 100 horsepower\n",
      "Car's horsepower: 100\n"
     ]
    }
   ],
   "source": [
    "# Engine class\n",
    "class Engine:\n",
    "    def __init__(self, horsepower):\n",
    "        self.horsepower = horsepower\n",
    "\n",
    "    def get_horsepower(self):\n",
    "        return self.horsepower\n",
    "\n",
    "    def __str__(self):\n",
    "        return f\"Engine with {self.horsepower} horsepower\"\n",
    "\n",
    "\n",
    "# Car class demonstrating Aggregation\n",
    "class Car:\n",
    "    def __init__(self, engine: Engine, model: str):\n",
    "        self.engine = engine  # Aggregation: Car \"has-a\" Engine\n",
    "        self.model = model\n",
    "\n",
    "    def car_details(self):\n",
    "        print(f\"Car model: {self.model}\")\n",
    "        print(f\"Car's engine: {self.engine}\")\n",
    "\n",
    "\n",
    "# Demonstrating Aggregation\n",
    "engine = Engine(100)  # Create Engine independently\n",
    "car = Car(engine, \"Sedan\")  # Create Car with the existing Engine\n",
    "\n",
    "# Accessing details\n",
    "car.car_details()\n",
    "print(f\"Car's horsepower: {car.engine.get_horsepower()}\")\n"
   ]
  },
  {
   "cell_type": "markdown",
   "metadata": {
    "id": "Yfi1NKVG3dbY"
   },
   "source": [
    "**Problem 16**\n",
    "\n",
    "Create a class Time with attributes hours and minutes. Implement the __str__, __add__, and __sub__ magic methods to display the time, add two Time objects, and subtract one Time object from another, respectively. Ensure that the time is displayed in hh:mm format."
   ]
  },
  {
   "cell_type": "code",
   "execution_count": 1,
   "metadata": {},
   "outputs": [
    {
     "name": "stdout",
     "output_type": "stream",
     "text": [
      "10:30\n",
      "23:50\n",
      "13:20\n",
      "10:20\n"
     ]
    }
   ],
   "source": [
    "#Irsyad punya \n",
    "\n",
    "class Time:\n",
    "  def __init__(self,hours,minutes):\n",
    "\n",
    "    self.hours = hours\n",
    "    self.minutes = minutes\n",
    "\n",
    "  def __str__(self):\n",
    "\n",
    "    return(f\"{self.hours:02d}:{self.minutes:02d}\")\n",
    "\n",
    "  def __add__(self,other):\n",
    "\n",
    "    total_minutes = self.hours*60 + self.minutes + other.hours*60 + other.minutes\n",
    "\n",
    "    if total_minutes > 24*60:\n",
    "      total_minutes -= 24*60\n",
    "    hour,min = divmod(total_minutes,60)\n",
    "\n",
    "    return Time(hour,min)\n",
    "\n",
    "  def __sub__(self,other):\n",
    "\n",
    "    total_minutes = self.hours*60 + self.minutes - (other.hours*60 + other.minutes)\n",
    "\n",
    "    if total_minutes < 0:\n",
    "      total_minutes = -total_minutes\n",
    "\n",
    "    hour,min = divmod(total_minutes,60)\n",
    "    return Time(hour,min)\n",
    "\n",
    "a = Time(10,30)\n",
    "b = Time(23,50)\n",
    "print(a)\n",
    "print(b)\n",
    "c = a - b\n",
    "print(c)\n",
    "d = a + b\n",
    "print(d)"
   ]
  },
  {
   "cell_type": "code",
   "execution_count": null,
   "metadata": {
    "id": "jWhJfL2s3kUv"
   },
   "outputs": [
    {
     "ename": "ValueError",
     "evalue": "Precision not allowed in integer format specifier",
     "output_type": "error",
     "traceback": [
      "\u001b[1;31m---------------------------------------------------------------------------\u001b[0m",
      "\u001b[1;31mValueError\u001b[0m                                Traceback (most recent call last)",
      "Cell \u001b[1;32mIn[63], line 21\u001b[0m\n\u001b[0;32m     18\u001b[0m       \u001b[38;5;28;01mpass\u001b[39;00m\n\u001b[0;32m     20\u001b[0m a \u001b[38;5;241m=\u001b[39m Time(\u001b[38;5;241m120\u001b[39m, \u001b[38;5;241m2\u001b[39m)\n\u001b[1;32m---> 21\u001b[0m \u001b[38;5;28;43mprint\u001b[39;49m\u001b[43m(\u001b[49m\u001b[43ma\u001b[49m\u001b[43m)\u001b[49m\n",
      "Cell \u001b[1;32mIn[63], line 11\u001b[0m, in \u001b[0;36mTime.__str__\u001b[1;34m(self)\u001b[0m\n\u001b[0;32m     10\u001b[0m \u001b[38;5;28;01mdef\u001b[39;00m \u001b[38;5;21m__str__\u001b[39m(\u001b[38;5;28mself\u001b[39m):\n\u001b[1;32m---> 11\u001b[0m   \u001b[38;5;28;01mreturn\u001b[39;00m \u001b[38;5;124mf\u001b[39m\u001b[38;5;124m\"\u001b[39m\u001b[38;5;132;43;01m{\u001b[39;49;00m\u001b[38;5;28;43mself\u001b[39;49m\u001b[38;5;241;43m.\u001b[39;49m\u001b[43mminutes\u001b[49m\u001b[38;5;132;43;01m:\u001b[39;49;00m\u001b[38;5;124;43m.02d\u001b[39;49m\u001b[38;5;132;43;01m}\u001b[39;49;00m\u001b[38;5;124m + \u001b[39m\u001b[38;5;132;01m{\u001b[39;00m\u001b[38;5;28mself\u001b[39m\u001b[38;5;241m.\u001b[39mhours\u001b[38;5;132;01m:\u001b[39;00m\u001b[38;5;124m.02d\u001b[39m\u001b[38;5;132;01m}\u001b[39;00m\u001b[38;5;124m\"\u001b[39m\n",
      "\u001b[1;31mValueError\u001b[0m: Precision not allowed in integer format specifier"
     ]
    }
   ],
   "source": [
    "# __add__(self, other): Implements behavior for the + operator (addition).\n",
    "# __sub__(self, other): Implements behavior for the – operator (subtraction).\n",
    "# __str__(self): Defines behavior for when str() is called on an instance of your class.\n",
    "class Time:\n",
    "    def __init__(self, minutes, hours):\n",
    "        self.minutes = minutes\n",
    "        self.hours = hours\n",
    " \n",
    "\n",
    "    def __str__(self):\n",
    "      return f\"{self.minutes:.02d} + {self.hours:.02d}\"\n",
    "\n",
    "    def __add__(self, other):\n",
    "      result_minutes= self.minutes + other.minutes\n",
    "      return Time(result_minutes)\n",
    "\n",
    "    def __sub__(self):\n",
    "      pass\n",
    "\n",
    "a = Time(120, 2)\n",
    "print(a)"
   ]
  },
  {
   "cell_type": "markdown",
   "metadata": {
    "id": "zzyeegwU3lR-"
   },
   "source": [
    "**Problem 17**\n",
    "\n",
    "Create a custom exception class InsufficientFundsError that inherits from the base Exception class. Use this exception in the BankAccount class created earlier to raise an error when someone tries to withdraw more money than is available in the account.\n",
    "\n",
    "These problems cover a wide range of class-related topics and will help build a strong foundation in object-oriented programming using Python."
   ]
  },
  {
   "cell_type": "code",
   "execution_count": 27,
   "metadata": {
    "id": "qJ8aEqph3r1U"
   },
   "outputs": [
    {
     "name": "stdout",
     "output_type": "stream",
     "text": [
      "Balance Amount After Withdraw:  2500.59\n"
     ]
    }
   ],
   "source": [
    "class InsufficientFundsError(Exception):\n",
    "  pass\n",
    "\n",
    "class BankAccount:\n",
    "\n",
    "  def __init__(self, withdraw, currentBalance):\n",
    "    self.withdraw = withdraw\n",
    "    self.currentBalance = currentBalance\n",
    "\n",
    "  # def __str__(self):\n",
    "  #   return f\"Insufficient Funds: {self.withdraw}\"\n",
    "\n",
    "  # def __repr__(self):\n",
    "  #   return f\"Insufficient Funds: {self.withdraw}\"\n",
    "\n",
    "  # def checkBalance(self):\n",
    "  #       print(f\"Current Balance: {self.currentBalance}\")\n",
    "  #       return self.currentBalance\n",
    "\n",
    "  def dowithdrawal(self, amount):\n",
    "    self.balance = self.currentBalance - amount\n",
    "    if self.currentBalance > amount:       \n",
    "      print(\"Balance Amount After Withdraw: \", self.balance)\n",
    "    else:\n",
    "      print(\"No enough money to withdraw\",InsufficientFundsError('Request:RM',amount, 'Current balance:RM',self.currentBalance) )\n",
    "     \n",
    "    \n",
    "money = BankAccount(1000, 3500.59)\n",
    "money.dowithdrawal(1000)"
   ]
  },
  {
   "cell_type": "markdown",
   "metadata": {
    "id": "zkr5vlOR35R4"
   },
   "source": [
    "**Problem 18**\n",
    "\n",
    "Create a class TemperatureConverter with a static method celsius_to_fahrenheit that converts Celsius to Fahrenheit and another static method fahrenheit_to_celsius that converts Fahrenheit to Celsius. Demonstrate the usage of these methods without creating an instance of the class.\n",
    "\n",
    "Bonus: Add a class method that keeps track of how many conversions have been performed."
   ]
  },
  {
   "cell_type": "code",
   "execution_count": null,
   "metadata": {},
   "outputs": [],
   "source": [
    "#irsyad punya\n",
    "# init method tada coz its need to create instaen during call (a=class())\n",
    "\n",
    "class TemperatureConverter:\n",
    "  conversion = 0\n",
    "\n",
    "  @staticmethod\n",
    "  def celsius_to_fahrenheit(celsius):\n",
    "    TemperatureConverter.conversion += 1\n",
    "    return celsius * 9/5 +32\n",
    "\n",
    "  @staticmethod\n",
    "  def fahrenheit_to_celsius (fahrenheit):\n",
    "    TemperatureConverter.conversion += 1\n",
    "    return (fahrenheit - 32) * 5/9\n",
    "\n",
    "  @classmethod\n",
    "  def convertion_count(cls):\n",
    "    return cls.conversion\n",
    "\n",
    "\n",
    "print(f\"Celcius to Fahrenheit : {TemperatureConverter.celsius_to_fahrenheit(50):.2f} °F\")\n",
    "print(f\"Celcius to Fahrenheit : {TemperatureConverter.celsius_to_fahrenheit(35):.2f} °F\")\n",
    "print(f\"Fahrenheit to Celcius : {TemperatureConverter.fahrenheit_to_celsius(50):.2f} °C\")\n",
    "print(f\"Fahrenheit to Celcius : {TemperatureConverter.fahrenheit_to_celsius(35):.2f} °C\")\n",
    "print(f\"Count : {TemperatureConverter.convertion_count()}\")"
   ]
  },
  {
   "cell_type": "code",
   "execution_count": null,
   "metadata": {
    "id": "lLr6A2Jf3_r3"
   },
   "outputs": [
    {
     "ename": "SyntaxError",
     "evalue": "invalid syntax (2043228850.py, line 12)",
     "output_type": "error",
     "traceback": [
      "\u001b[1;36m  Cell \u001b[1;32mIn[18], line 12\u001b[1;36m\u001b[0m\n\u001b[1;33m    Demonstrate the usage of these methods without creating an instance of the class ?? gape dia\u001b[0m\n\u001b[1;37m                ^\u001b[0m\n\u001b[1;31mSyntaxError\u001b[0m\u001b[1;31m:\u001b[0m invalid syntax\n"
     ]
    }
   ],
   "source": [
    "class TemperatureConverter:\n",
    "  \n",
    "  def __init__(self, celsius):\n",
    "    self.celsius = celsius \n",
    "\n",
    "  @staticmethod\n",
    "  def celsius_to_fahrenheit(celsius):\n",
    "    fahrenheit = (celsius * 9/5) + 32\n",
    "    return fahrenheit\n",
    "  \n",
    "\n",
    "   \n",
    "buat macam biasa , cuma cara nak call tu tayah assing varibale. \n",
    "Demonstrate the usage of these methods without creating an instance of the class ?? gape dia"
   ]
  },
  {
   "cell_type": "markdown",
   "metadata": {
    "id": "cwbjKzva4Eov"
   },
   "source": [
    "**Problem 19**\n",
    "\n",
    "Create a class BankAccount with a private attribute balance. Add methods to deposit and withdraw money from the account. Ensure that the balance cannot be directly accessed from outside the class but can be modified through the deposit and withdraw methods. Also, add a method get_balance to view the balance."
   ]
  },
  {
   "cell_type": "code",
   "execution_count": 19,
   "metadata": {
    "id": "f9j_qv1_4Hrc"
   },
   "outputs": [
    {
     "name": "stdout",
     "output_type": "stream",
     "text": [
      "Balance Amount After Withdraw:  4500\n"
     ]
    }
   ],
   "source": [
    "class BankAccount:\n",
    "  def __init__(self, balance):\n",
    "    self.__balance = balance\n",
    "\n",
    "  @property\n",
    "  def get_balance(self):\n",
    "    return self.__balance\n",
    "\n",
    "  @get_balance.setter\n",
    "  def deposit(self, amount):\n",
    "    self.__balance = self.__balance + amount\n",
    "\n",
    "  def withdraw(self, amount):\n",
    "    self.__balance = self.__balance - amount\n",
    "    if self.__balance < 10:\n",
    "            self.__balance = self.__balance + amount\n",
    "            raise \"Exceeds Minimum Balance\"\n",
    "    print(\"Balance Amount After Withdraw: \", self.__balance)\n",
    "\n",
    "\n",
    "money = BankAccount(5000)\n",
    "try:\n",
    "  money.withdraw(500)\n",
    "except Exception as e:\n",
    "  print(e)\n",
    "\n",
    "# money.deposit(1000)\n",
    "# money.withdraw(500)"
   ]
  },
  {
   "cell_type": "markdown",
   "metadata": {
    "id": "p3F77PJ-4ImX"
   },
   "source": [
    "**Problem 20**\n",
    "\n",
    "Create a base class Person with attributes name and age, and a method display_info that prints the name and age. Then, create a subclass Student that inherits from Person and adds the attribute student_id. Override the display_info method to also display the student_id. Create an instance of Student and call the display_info method."
   ]
  },
  {
   "cell_type": "code",
   "execution_count": 20,
   "metadata": {
    "id": "SwWAhdyp4SJ3"
   },
   "outputs": [
    {
     "name": "stdout",
     "output_type": "stream",
     "text": [
      "Student's Name: Nora\n",
      "Student's Age: 12\n",
      "Student's ID: 2020847676\n"
     ]
    }
   ],
   "source": [
    "class Person:\n",
    "  def __init__(self, name, age):\n",
    "    self.name = name\n",
    "    self.age = age\n",
    "\n",
    "  def display_info(self):\n",
    "    print(f\"Student's Name: {self.name}\")\n",
    "    print(f\"Student's Age: {self.age}\")\n",
    "\n",
    "class Student(Person):\n",
    "  def __init__(self, name, age, student_id):\n",
    "    super().__init__(name, age)\n",
    "    self.student_id = student_id\n",
    "\n",
    "  def display_info(self):\n",
    "    super().display_info()\n",
    "    print(f\"Student's ID: {self.student_id}\")\n",
    "\n",
    "student = Student(\"Nora\", \"12\", \"2020847676\")\n",
    "student.display_info()"
   ]
  },
  {
   "cell_type": "markdown",
   "metadata": {
    "id": "PsbjEM9OIGsH"
   },
   "source": [
    "<b>Problem 21: Track Instances of a Class</b><br/>\n",
    "\n",
    "Write a class Student that tracks the number of students created. Use a class variable student_count to keep track of the count.\n",
    "\n",
    "1. Each time a new Student object is created, increment student_count.\n",
    "2. Add a method total_students() that returns the current count of students."
   ]
  },
  {
   "cell_type": "code",
   "execution_count": 24,
   "metadata": {
    "id": "R6rMDCJUIUFs"
   },
   "outputs": [
    {
     "name": "stdout",
     "output_type": "stream",
     "text": [
      "Full Name: Nora\n",
      "Age: 15\n",
      "1\n",
      "Full Name: Tina\n",
      "Age: 18\n",
      "2\n"
     ]
    }
   ],
   "source": [
    "class Student:\n",
    "\n",
    "  count = 0\n",
    "\n",
    "  def __init__(self, name, age):\n",
    "    self.name = name\n",
    "    self.age = age\n",
    "    self.student_count()\n",
    "\n",
    "  def student_count(self):\n",
    "    Student.count = Student.count + 1\n",
    "\n",
    "  def info(self):\n",
    "        print(\"Full Name:\", self.name)\n",
    "        print(\"Age:\", self.age)\n",
    "    #   print(\"Count:\", Student.count)\n",
    "\n",
    "  def total_students(self):\n",
    "    return Student.count\n",
    "\n",
    "nora = Student(\"Nora\", 15)\n",
    "nora.info()\n",
    "print(nora.total_students())\n",
    "tina = Student(\"Tina\", 18)\n",
    "tina.info()\n",
    "print(tina.total_students())\n",
    "\n"
   ]
  },
  {
   "cell_type": "markdown",
   "metadata": {
    "id": "2lCQC1m_IwMD"
   },
   "source": [
    "<b>Problem 22: Shared Configuration</b>\n",
    "\n",
    "Create a class ServerConfig that holds the server's default configuration using class variables. The class should have the following:\n",
    "\n",
    "1. A class variable default_port set to 8080.\n",
    "2. A class variable default_protocol set to \"http\".\n",
    "3. Methods to get and update these default values."
   ]
  },
  {
   "cell_type": "code",
   "execution_count": 25,
   "metadata": {
    "id": "fbC0ewMRI4Ds"
   },
   "outputs": [
    {
     "name": "stdout",
     "output_type": "stream",
     "text": [
      "New port: 80\n",
      "New Protocol: https\n"
     ]
    }
   ],
   "source": [
    "class ServerConfig:\n",
    "  default_port = 8080\n",
    "  default_protocol = \"http\"\n",
    "\n",
    "  def __init__(self, port, protocol):\n",
    "    self.default_port = port\n",
    "    self.default_protocol = protocol\n",
    "\n",
    "  def get_port(self):\n",
    "    return self.port\n",
    "\n",
    "  def get_protocol(self):\n",
    "    return self.protocol\n",
    "\n",
    "ServerConfig.default_port = 80\n",
    "ServerConfig.default_protocol = \"https\"\n",
    "print(\"New port:\", ServerConfig.default_port)\n",
    "print(\"New Protocol:\",ServerConfig.default_protocol)\n",
    "\n"
   ]
  },
  {
   "cell_type": "markdown",
   "metadata": {
    "id": "apogoC5tJONb"
   },
   "source": [
    "<b>Problem 23: Animal Hierarchy</b><br/>\n",
    "Create a base class Animal with the following:\n",
    "1. A method make_sound() that prints \"Some generic sound\".\n",
    "2. A method move() that prints \"Animal moves\".\n",
    "\n",
    "Create two derived classes:\n",
    "1. Dog: Override make_sound() to print \"Bark\".\n",
    "2. Bird: Override move() to print \"Bird flies\"."
   ]
  },
  {
   "cell_type": "code",
   "execution_count": 26,
   "metadata": {
    "id": "XpJOxWYzJds9"
   },
   "outputs": [
    {
     "name": "stdout",
     "output_type": "stream",
     "text": [
      "Bark\n",
      "Animal moves\n",
      "Some generic sound\n",
      "Bird flies\n"
     ]
    }
   ],
   "source": [
    "class Animal:\n",
    "\n",
    "  def make_sound(self):\n",
    "    print(\"Some generic sound\")\n",
    "\n",
    "  def move(self):\n",
    "    print(\"Animal moves\")\n",
    "\n",
    "class Dog(Animal):\n",
    "  def make_sound(self):\n",
    "    print(\"Bark\")\n",
    "\n",
    "class Bird(Animal):\n",
    "  def move(self):\n",
    "    print(\"Bird flies\")\n",
    "\n",
    "dog = Dog()\n",
    "bird = Bird()\n",
    "\n",
    "dog.make_sound()\n",
    "dog.move()\n",
    "\n",
    "bird.make_sound()\n",
    "bird.move()"
   ]
  },
  {
   "cell_type": "markdown",
   "metadata": {
    "id": "EJKYYOvGJpOL"
   },
   "source": [
    "<b>Problem 24: Library System</b>\n",
    "\n",
    "Create a base class Book with:\n",
    "1. Attributes title and author.\n",
    "2. A method display_info() to print the title and author.\n",
    "\n",
    "Create the following derived classes:\n",
    "1. EBook: Adds an attribute file_size (in MB) and overrides display_info() to include file size.\n",
    "2. PrintedBook: Adds an attribute pages and overrides display_info() to include the number of pages."
   ]
  },
  {
   "cell_type": "code",
   "execution_count": 27,
   "metadata": {
    "id": "nczt61gAJ3pB"
   },
   "outputs": [
    {
     "name": "stdout",
     "output_type": "stream",
     "text": [
      "Title: The Alchemist\n",
      "Author: Paulo Coelho\n",
      "File Size: 13 MB\n",
      "Pages: 150\n"
     ]
    }
   ],
   "source": [
    "class Book:\n",
    "  def __init__(self, title, author):\n",
    "    self.title = title\n",
    "    self.author = author\n",
    "\n",
    "  def display_info(self):\n",
    "    print(f\"Title: {self.title}\")\n",
    "    print(f\"Author: {self.author}\")\n",
    "\n",
    "class Ebook(Book):\n",
    "  def __init__(self, title, author, file_size):\n",
    "    super().__init__(title, author)\n",
    "    self.file_size = file_size\n",
    "\n",
    "  def display_info(self):\n",
    "    super().display_info\n",
    "    print(f\"File Size: {self.file_size} MB\")\n",
    "\n",
    "class PrintedBook(Book):\n",
    "  def __init__(self, title, author, pages):\n",
    "    super().__init__(title, author)\n",
    "    self.pages = pages\n",
    "\n",
    "  def display_info(self):\n",
    "    super().display_info\n",
    "    print(f\"Pages: {self.pages}\")\n",
    "\n",
    "bk = Book(\"The Alchemist\", \"Paulo Coelho\")\n",
    "bk.display_info()\n",
    "buku = Ebook(\"The Alchemist\", \"Paulo Coelho\", 13)\n",
    "buku.display_info()\n",
    "book = PrintedBook(\"The Alchemist\", \"Paulo Coelho\", 150)\n",
    "book.display_info()\n"
   ]
  },
  {
   "cell_type": "markdown",
   "metadata": {
    "id": "W4FcqCDoKh5w"
   },
   "source": [
    "<b>Problem 25: Smart Home System</b><br/>\n",
    "Create a system for a smart home that involves multiple inheritance to simulate different roles for smart devices. Implement the following classes:\n",
    "\n",
    "1. Appliance (Base Class 1):<br/>\n",
    "<b>a. Attributes:</b><br/>\n",
    "brand (string): Brand of the appliance.<br/>\n",
    "<b>b. Methods:</b><br/>\n",
    "turn_on(): Prints \"The appliance is now ON.\"<br/>\n",
    "turn_off(): Prints \"The appliance is now OFF.\"<br/>\n",
    "\n",
    "2. InternetEnabled (Base Class 2):<br/>\n",
    "<b>a. Attributes:</b><br/>\n",
    "ip_address (string): IP address of the device.<br/>\n",
    "<b>b. Methods:</b><br/>\n",
    "connect_to_internet(): Prints \"Connected to the internet at {ip_address}.\"<br/>\n",
    "disconnect_from_internet(): Prints \"Disconnected from the internet.\"<br/>\n",
    "\n",
    "3. VoiceControlled (Base Class 3):<br/>\n",
    "<b>a. Methods:</b><br/>\n",
    "respond_to_command(command): Responds to the given voice command:<br/>\n",
    "\"Turn on\" -> Calls turn_on().<br/>\n",
    "\"Turn off\" -> Calls turn_off().<br/>\n",
    "Any other command -> Prints \"Unknown command.\"<br/>\n",
    "\n",
    "<b>SmartDevice (Derived Class):</b><br/>\n",
    "\n",
    "1. Inherits from Appliance, InternetEnabled, and VoiceControlled.\n",
    "2. Attributes:<br/>\n",
    "name (string): Name of the smart device.\n",
    "3. Methods:<br/>\n",
    "show_device_status(): Prints the device name, brand, and IP address.<br/>\n",
    "\n",
    "<b>Requirements:</b><br/>\n",
    "1. Create a SmartDevice instance with attributes name, brand, and ip_address.\n",
    "2. Demonstrate:\n",
    "<ul>\n",
    "<li>Turning the device on and off via the respond_to_command() method.</li>\n",
    "<li>Connecting and disconnecting the device from the internet.</li>\n",
    "<li>Showing the device's details using show_device_status().</li>\n",
    "</ul>"
   ]
  },
  {
   "cell_type": "code",
   "execution_count": null,
   "metadata": {
    "id": "rQ0jqcPKLfzI"
   },
   "outputs": [
    {
     "name": "stdout",
     "output_type": "stream",
     "text": [
      "Device Apple, brand Smart Device and IP address 127.01.34.\n",
      "Connected to the internet at 127.01.34.\n",
      "The appliance is now ON\n",
      "The appliance is now OFF\n",
      "Disconnected from the internet.\n"
     ]
    }
   ],
   "source": [
    "class Appliance:\n",
    "    def __init__(self, brand):\n",
    "        self.brand = brand\n",
    "\n",
    "    def turn_on(self):\n",
    "        print(\"The appliance is now ON\")\n",
    "        \n",
    "    def turn_off(self):\n",
    "        print(\"The appliance is now OFF\")\n",
    "\n",
    "class InternetEnabled(Appliance):\n",
    "    def __init__(self, brand, ip_address):\n",
    "        super().__init__(brand)  \n",
    "        self.ip_address = ip_address\n",
    "\n",
    "    def connect_to_internet(self ):\n",
    "        print(f\"Connected to the internet at {self.ip_address}.\")\n",
    "\n",
    "    def disconnect_from_internet(self): \n",
    "        print(\"Disconnected from the internet.\")\n",
    "\n",
    "\n",
    "class VoiceControlled(Appliance):\n",
    "    def __init__(self, brand):\n",
    "        super().__init__(brand)\n",
    "\n",
    "    def respond_to_command(self, command):\n",
    "        command = command.lower()\n",
    "        if command == \"turn on\":\n",
    "            self.turn_on()\n",
    "        elif command == \"turn off\":\n",
    "            self.turn_off()\n",
    "        else:\n",
    "            print(\"Unknown Command\")\n",
    "\n",
    "class SmartDevice(InternetEnabled, VoiceControlled):\n",
    "    def __init__(self, brand, name, ip_address):\n",
    "    #   super().__init__(brand)  why tak amik ?\n",
    "        InternetEnabled.__init__(self, brand, ip_address)\n",
    "        VoiceControlled.__init__(self, brand)\n",
    "        self.name = name\n",
    "\n",
    "    def show_device_status(self):\n",
    "        print(f\"Device {self.name}, brand {self.brand} and IP address {self.ip_address}.\")\n",
    "\n",
    "\n",
    "device = SmartDevice(\"Smart Device\", \"Apple\", \"127.01.34\")\n",
    "device.show_device_status() \n",
    "device.connect_to_internet()\n",
    "device.respond_to_command(\"turn on\")\n",
    "device.respond_to_command(\"turn off\")\n",
    "device.disconnect_from_internet()"
   ]
  }
 ],
 "metadata": {
  "colab": {
   "provenance": []
  },
  "kernelspec": {
   "display_name": "Python 3",
   "name": "python3"
  },
  "language_info": {
   "codemirror_mode": {
    "name": "ipython",
    "version": 3
   },
   "file_extension": ".py",
   "mimetype": "text/x-python",
   "name": "python",
   "nbconvert_exporter": "python",
   "pygments_lexer": "ipython3",
   "version": "3.12.3"
  }
 },
 "nbformat": 4,
 "nbformat_minor": 0
}
